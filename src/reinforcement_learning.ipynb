{
 "cells": [
  {
   "attachments": {},
   "cell_type": "markdown",
   "metadata": {},
   "source": [
    "# Reinforcement Learning"
   ]
  },
  {
   "cell_type": "code",
   "execution_count": 1,
   "metadata": {},
   "outputs": [],
   "source": [
    "import chess\n",
    "import numpy as np\n",
    "from IPython.display import clear_output\n",
    "from chessbot.chessbot import ChessBot\n",
    "\n",
    "def play_game_and_learn(white_model, black_model, exploration_rate=0.0, should_visualise=False):\n",
    "\twhite = ChessBot(white_model, exploration_rate)\n",
    "\tblack = ChessBot(black_model, exploration_rate)\n",
    "\n",
    "\tboard = chess.Board()\n",
    "\n",
    "\tif should_visualise:\n",
    "\t\tdisplay(board)\n",
    "\n",
    "\twhile not board.is_game_over():\n",
    "\t\tboard.push(black.move(board) if board.turn == chess.BLACK else white.move(board))\n",
    "\n",
    "\t\tif should_visualise:\n",
    "\t\t\tclear_output(wait=True)\n",
    "\t\t\tdisplay(board)\n",
    "\n",
    "\tresult = board.result()\n",
    "\tif result == '1-0':\n",
    "\t\tblack_model.partial_fit(black.moves_made, np.zeros(len(black.moves_made)))\n",
    "\t\twhite_model.partial_fit(white.moves_made, np.ones(len(white.moves_made)))\n",
    "\telif result == '0-1':\n",
    "\t\tblack_model.partial_fit(black.moves_made, np.ones(len(black.moves_made)))\n",
    "\t\twhite_model.partial_fit(white.moves_made, np.zeros(len(white.moves_made)))\n",
    "\n",
    "\treturn result"
   ]
  },
  {
   "cell_type": "code",
   "execution_count": 11,
   "metadata": {},
   "outputs": [
    {
     "name": "stdout",
     "output_type": "stream",
     "text": [
      "Game 99 result: 1/2-1/2\n",
      "Game 100/100 (exploration rate: 0.00)\n"
     ]
    }
   ],
   "source": [
    "import numpy as np\n",
    "from sklearn.neural_network import MLPRegressor\n",
    "from IPython.display import clear_output\n",
    "\n",
    "num_games = 100\n",
    "exploration_rates = np.linspace(1, 0, num_games)**4\n",
    "\n",
    "white_model = MLPRegressor(warm_start=True)\n",
    "black_model = MLPRegressor(warm_start=True)\n",
    "\n",
    "results = []\n",
    "for i in range(num_games):\n",
    "\tclear_output(wait=True)\n",
    "\tif i > 0:\n",
    "\t\tprint(f'Game {i} result: {results[-1]}')\n",
    "\tprint(f'Game {i + 1}/{num_games} (exploration rate: {exploration_rates[i]:.2f})')\n",
    "\n",
    "\tresult = play_game_and_learn(white_model, black_model, exploration_rate=exploration_rates[i])\n",
    "\tresults.append(result)"
   ]
  },
  {
   "cell_type": "code",
   "execution_count": 12,
   "metadata": {},
   "outputs": [
    {
     "name": "stdout",
     "output_type": "stream",
     "text": [
      "1-0: 5\n",
      "0-1: 4\n",
      "1/2-1/2: 91\n"
     ]
    }
   ],
   "source": [
    "for result in ['1-0', '0-1', '1/2-1/2']:\n",
    "\tprint(f'{result}: {results.count(result)}')"
   ]
  }
 ],
 "metadata": {
  "kernelspec": {
   "display_name": "env",
   "language": "python",
   "name": "python3"
  },
  "language_info": {
   "codemirror_mode": {
    "name": "ipython",
    "version": 3
   },
   "file_extension": ".py",
   "mimetype": "text/x-python",
   "name": "python",
   "nbconvert_exporter": "python",
   "pygments_lexer": "ipython3",
   "version": "3.10.6"
  },
  "orig_nbformat": 4
 },
 "nbformat": 4,
 "nbformat_minor": 2
}
