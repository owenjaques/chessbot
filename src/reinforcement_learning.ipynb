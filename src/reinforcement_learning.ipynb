{
 "cells": [
  {
   "attachments": {},
   "cell_type": "markdown",
   "metadata": {},
   "source": [
    "# Reinforcement Learning"
   ]
  },
  {
   "cell_type": "code",
   "execution_count": null,
   "metadata": {},
   "outputs": [],
   "source": [
    "import chess\n",
    "import numpy as np\n",
    "from IPython.display import clear_output\n",
    "from chessbot.chessbot import ChessBot\n",
    "\n",
    "def play_game_and_learn(white_model, black_model, exploration_rate=0.0, should_visualise=False):\n",
    "\twhite = ChessBot(white_model, exploration_rate)\n",
    "\tblack = ChessBot(black_model, exploration_rate)\n",
    "\n",
    "\tboard = chess.Board()\n",
    "\n",
    "\tif should_visualise:\n",
    "\t\tdisplay(board)\n",
    "\n",
    "\twhile not board.is_game_over():\n",
    "\t\tboard.push(black.move(board) if board.turn == chess.BLACK else white.move(board))\n",
    "\n",
    "\t\tif should_visualise:\n",
    "\t\t\tclear_output(wait=True)\n",
    "\t\t\tdisplay(board)\n",
    "\n",
    "\tresult = board.result()\n",
    "\tif result == '1-0':\n",
    "\t\tprint('has partially fit')\n",
    "\t\tblack_model.partial_fit(black.moves_made, np.zeros(len(black.moves_made)))\n",
    "\t\twhite_model.partial_fit(white.moves_made, np.ones(len(white.moves_made)))\n",
    "\telif result == '0-1':\n",
    "\t\tprint('has partially fit')\n",
    "\t\tblack_model.partial_fit(black.moves_made, np.ones(len(black.moves_made)))\n",
    "\t\twhite_model.partial_fit(white.moves_made, np.zeros(len(white.moves_made)))\n",
    "\n",
    "\treturn result"
   ]
  },
  {
   "cell_type": "code",
   "execution_count": null,
   "metadata": {},
   "outputs": [],
   "source": [
    "import numpy as np\n",
    "from sklearn.neural_network import MLPRegressor\n",
    "\n",
    "num_games = 100\n",
    "exploration_rates = np.linspace(1, 0, num_games)**4\n",
    "\n",
    "white_model = MLPRegressor()\n",
    "black_model = MLPRegressor()\n",
    "\n",
    "results = []\n",
    "for i in range(num_games):\n",
    "\tresult = play_game_and_learn(white_model, black_model, exploration_rate=exploration_rates[i])\n",
    "\tresults.append(result)\n",
    "\n",
    "for result in ['1-0', '0-1', '1/2-1/2']:\n",
    "\tprint(f'{result}: {results.count(result)}')"
   ]
  }
 ],
 "metadata": {
  "kernelspec": {
   "display_name": "env",
   "language": "python",
   "name": "python3"
  },
  "language_info": {
   "codemirror_mode": {
    "name": "ipython",
    "version": 3
   },
   "file_extension": ".py",
   "mimetype": "text/x-python",
   "name": "python",
   "nbconvert_exporter": "python",
   "pygments_lexer": "ipython3",
   "version": "3.10.6"
  },
  "orig_nbformat": 4
 },
 "nbformat": 4,
 "nbformat_minor": 2
}
