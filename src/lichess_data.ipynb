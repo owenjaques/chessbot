{
  "cells": [
    {
      "attachments": {},
      "cell_type": "markdown",
      "metadata": {
        "id": "lxs4B2ekzwoG"
      },
      "source": [
        "# Training the model to run on Lichess data\n",
        "## Some pre-requisites if running on Google Collab\n",
        "If not running on Google collab do not run these next two cells!"
      ]
    },
    {
      "cell_type": "code",
      "execution_count": null,
      "metadata": {
        "colab": {
          "base_uri": "https://localhost:8080/"
        },
        "id": "u8gnO_uq3ZBe",
        "outputId": "f5a50a0e-fff7-4c50-cc18-4f7a7aa02a80"
      },
      "outputs": [],
      "source": [
        "# Install the only dependency not available from collab directly\n",
        "!pip install chess\n",
        "\n",
        "# Get imported files from repo\n",
        "!git clone -b rl-setup https://github.com/owenjaques/chessbot.git\n",
        "!mv chessbot chessbot-repo\n",
        "!mv chessbot-repo/src/chessbot .\n",
        "!rm chessbot-repo -r"
      ]
    },
    {
      "cell_type": "code",
      "execution_count": null,
      "metadata": {
        "colab": {
          "base_uri": "https://localhost:8080/"
        },
        "id": "DJoqUIfm5Ory",
        "outputId": "b94a1bed-b709-4c53-8507-758495b0a9ec"
      },
      "outputs": [],
      "source": [
        "from google.colab import drive\n",
        "\n",
        "drive.mount('/content/gdrive')\n",
        "weights_directory = '/content/gdrive/MyDrive/chessbot_weights/'\n",
        "print(f'Saving weights to {weights_directory}')"
      ]
    },
    {
      "attachments": {},
      "cell_type": "markdown",
      "metadata": {},
      "source": [
        "## Get the data\n",
        "This compression format is really nice, so you can cancel this cell whenever you want and all the games that were downloaded will be maintained."
      ]
    },
    {
      "cell_type": "code",
      "execution_count": null,
      "metadata": {},
      "outputs": [],
      "source": [
        "!wget https://database.lichess.org/standard/lichess_db_standard_rated_2023-02.pgn.zst"
      ]
    },
    {
      "attachments": {},
      "cell_type": "markdown",
      "metadata": {},
      "source": [
        "## Decompress the Data"
      ]
    },
    {
      "cell_type": "code",
      "execution_count": null,
      "metadata": {},
      "outputs": [],
      "source": [
        "\n",
        "!pzstd -d lichess_db_standard_rated_2023-02.pgn.zst"
      ]
    },
    {
      "attachments": {},
      "cell_type": "markdown",
      "metadata": {},
      "source": [
        "## Play the games from the data\n",
        "For this section we want to play the games so we can translate them into model inputs which we can train on."
      ]
    },
    {
      "cell_type": "code",
      "execution_count": 15,
      "metadata": {},
      "outputs": [
        {
          "name": "stdout",
          "output_type": "stream",
          "text": [
            "Processing game 494/100000\r"
          ]
        },
        {
          "ename": "KeyboardInterrupt",
          "evalue": "",
          "output_type": "error",
          "traceback": [
            "\u001b[0;31m---------------------------------------------------------------------------\u001b[0m",
            "\u001b[0;31mKeyboardInterrupt\u001b[0m                         Traceback (most recent call last)",
            "Cell \u001b[0;32mIn[15], line 25\u001b[0m\n\u001b[1;32m     23\u001b[0m \u001b[39mfor\u001b[39;00m move \u001b[39min\u001b[39;00m game\u001b[39m.\u001b[39mmainline_moves():\n\u001b[1;32m     24\u001b[0m     board\u001b[39m.\u001b[39mpush(move)\n\u001b[0;32m---> 25\u001b[0m     X\u001b[39m.\u001b[39mappend(ModelInput(board)\u001b[39m.\u001b[39mget_input())\n\u001b[1;32m     27\u001b[0m X \u001b[39m=\u001b[39m np\u001b[39m.\u001b[39marray(X)\n\u001b[1;32m     28\u001b[0m y \u001b[39m=\u001b[39m np\u001b[39m.\u001b[39mempty_like(X)\n",
            "File \u001b[0;32m~/seng474/chessbot/src/chessbot/model_input.py:25\u001b[0m, in \u001b[0;36mModelInput.__init__\u001b[0;34m(self, board)\u001b[0m\n\u001b[1;32m     23\u001b[0m \u001b[39mself\u001b[39m\u001b[39m.\u001b[39mparse_board()\n\u001b[1;32m     24\u001b[0m \u001b[39mself\u001b[39m\u001b[39m.\u001b[39mparse_castling_rights()\n\u001b[0;32m---> 25\u001b[0m \u001b[39mself\u001b[39;49m\u001b[39m.\u001b[39;49mparse_potential_game_outcome()\n\u001b[1;32m     26\u001b[0m \u001b[39mself\u001b[39m\u001b[39m.\u001b[39mget_next_to_move()\n\u001b[1;32m     27\u001b[0m \u001b[39mself\u001b[39m\u001b[39m.\u001b[39matk_lst()\n",
            "File \u001b[0;32m~/seng474/chessbot/src/chessbot/model_input.py:87\u001b[0m, in \u001b[0;36mModelInput.parse_potential_game_outcome\u001b[0;34m(self)\u001b[0m\n\u001b[1;32m     86\u001b[0m \u001b[39mdef\u001b[39;00m \u001b[39mparse_potential_game_outcome\u001b[39m(\u001b[39mself\u001b[39m):\n\u001b[0;32m---> 87\u001b[0m     game_outcome \u001b[39m=\u001b[39m \u001b[39mself\u001b[39;49m\u001b[39m.\u001b[39;49mboard\u001b[39m.\u001b[39;49moutcome(claim_draw\u001b[39m=\u001b[39;49m\u001b[39mTrue\u001b[39;49;00m)\n\u001b[1;32m     88\u001b[0m     \u001b[39mif\u001b[39;00m game_outcome \u001b[39mis\u001b[39;00m \u001b[39mNone\u001b[39;00m:\n\u001b[1;32m     89\u001b[0m         \u001b[39mself\u001b[39m\u001b[39m.\u001b[39mpotential_game_outcome[\u001b[39m0\u001b[39m] \u001b[39m=\u001b[39m \u001b[39m0.66\u001b[39m\n",
            "File \u001b[0;32m~/seng474/chessbot/env/lib/python3.10/site-packages/chess/__init__.py:1951\u001b[0m, in \u001b[0;36mBoard.outcome\u001b[0;34m(self, claim_draw)\u001b[0m\n\u001b[1;32m   1949\u001b[0m     \u001b[39mif\u001b[39;00m \u001b[39mself\u001b[39m\u001b[39m.\u001b[39mcan_claim_fifty_moves():\n\u001b[1;32m   1950\u001b[0m         \u001b[39mreturn\u001b[39;00m Outcome(Termination\u001b[39m.\u001b[39mFIFTY_MOVES, \u001b[39mNone\u001b[39;00m)\n\u001b[0;32m-> 1951\u001b[0m     \u001b[39mif\u001b[39;00m \u001b[39mself\u001b[39;49m\u001b[39m.\u001b[39;49mcan_claim_threefold_repetition():\n\u001b[1;32m   1952\u001b[0m         \u001b[39mreturn\u001b[39;00m Outcome(Termination\u001b[39m.\u001b[39mTHREEFOLD_REPETITION, \u001b[39mNone\u001b[39;00m)\n\u001b[1;32m   1954\u001b[0m \u001b[39mreturn\u001b[39;00m \u001b[39mNone\u001b[39;00m\n",
            "File \u001b[0;32m~/seng474/chessbot/env/lib/python3.10/site-packages/chess/__init__.py:2112\u001b[0m, in \u001b[0;36mBoard.can_claim_threefold_repetition\u001b[0;34m(self)\u001b[0m\n\u001b[1;32m   2110\u001b[0m \u001b[39m# The next legal move is a threefold repetition.\u001b[39;00m\n\u001b[1;32m   2111\u001b[0m \u001b[39mfor\u001b[39;00m move \u001b[39min\u001b[39;00m \u001b[39mself\u001b[39m\u001b[39m.\u001b[39mgenerate_legal_moves():\n\u001b[0;32m-> 2112\u001b[0m     \u001b[39mself\u001b[39;49m\u001b[39m.\u001b[39;49mpush(move)\n\u001b[1;32m   2113\u001b[0m     \u001b[39mtry\u001b[39;00m:\n\u001b[1;32m   2114\u001b[0m         \u001b[39mif\u001b[39;00m transpositions[\u001b[39mself\u001b[39m\u001b[39m.\u001b[39m_transposition_key()] \u001b[39m>\u001b[39m\u001b[39m=\u001b[39m \u001b[39m2\u001b[39m:\n",
            "File \u001b[0;32m~/seng474/chessbot/env/lib/python3.10/site-packages/chess/__init__.py:2241\u001b[0m, in \u001b[0;36mBoard.push\u001b[0;34m(self, move)\u001b[0m\n\u001b[1;32m   2239\u001b[0m \u001b[39m# Update castling rights.\u001b[39;00m\n\u001b[1;32m   2240\u001b[0m \u001b[39mself\u001b[39m\u001b[39m.\u001b[39mcastling_rights \u001b[39m&\u001b[39m\u001b[39m=\u001b[39m \u001b[39m~\u001b[39mto_bb \u001b[39m&\u001b[39m \u001b[39m~\u001b[39mfrom_bb\n\u001b[0;32m-> 2241\u001b[0m \u001b[39mif\u001b[39;00m piece_type \u001b[39m==\u001b[39m KING \u001b[39mand\u001b[39;00m \u001b[39mnot\u001b[39;00m promoted:\n\u001b[1;32m   2242\u001b[0m     \u001b[39mif\u001b[39;00m \u001b[39mself\u001b[39m\u001b[39m.\u001b[39mturn \u001b[39m==\u001b[39m WHITE:\n\u001b[1;32m   2243\u001b[0m         \u001b[39mself\u001b[39m\u001b[39m.\u001b[39mcastling_rights \u001b[39m&\u001b[39m\u001b[39m=\u001b[39m \u001b[39m~\u001b[39mBB_RANK_1\n",
            "\u001b[0;31mKeyboardInterrupt\u001b[0m: "
          ]
        }
      ],
      "source": [
        "import chess.pgn\n",
        "import numpy as np\n",
        "from chessbot.model_input import ModelInput\n",
        "\n",
        "X_all = None\n",
        "y_all = None\n",
        "\n",
        "MAX_GAMES = 100000\n",
        "\n",
        "with open('lichess_db_standard_rated_2023-02.pgn') as pgn:\n",
        "    game_count = 0\n",
        "    game = chess.pgn.read_game(pgn)\n",
        "\n",
        "    while game is not None and game_count < MAX_GAMES:\n",
        "        result = game.headers['Result']\n",
        "        \n",
        "        # Only train on game played to completion that were not draws\n",
        "        if game.headers['Termination'] == 'Normal' and result in ['1-0', '0-1']:\n",
        "            print(f'Processing game {game_count}/{MAX_GAMES}', end='\\r')\n",
        "            X = []\n",
        "            \n",
        "            board = game.board()\n",
        "            for move in game.mainline_moves():\n",
        "                board.push(move)\n",
        "                X.append(ModelInput(board).get_input())\n",
        "\n",
        "            X = np.array(X)\n",
        "            y = np.empty_like(X)\n",
        "            \n",
        "            discount_factor = 0.95\n",
        "            y_reversed_indices = np.linspace(len(y) - 1, 0, num=len(y))\n",
        "            y = 1 * discount_factor**y_reversed_indices\n",
        "\n",
        "            if result == '0-1':\n",
        "                y = -y\n",
        "\n",
        "            # Scale the labels to be between 0 and 1 instead of -1 and 1\n",
        "            y = (y + 1) / 2\n",
        "\n",
        "            # Save the data\n",
        "            if X is not None and y is not None:\n",
        "                if X_all is None:\n",
        "                    X_all = X\n",
        "                    y_all = y\n",
        "                else:\n",
        "                    X_all = np.concatenate((X_all, X))\n",
        "                    y_all = np.concatenate((y_all, y))\n",
        "\n",
        "        # Get the next game\n",
        "        game_count += 1\n",
        "        game = chess.pgn.read_game(pgn)\n",
        "\n",
        "np.savez_compressed(f'{weights_directory}games_data.npz', X=X_all, y=y_all)"
      ]
    },
    {
      "cell_type": "markdown",
      "metadata": {
        "id": "4NoDAvLu3WvE"
      },
      "source": [
        "## Our model\n",
        "We will initially be using a MLP Regression model set up with the default parameters from scikit-learn's MLP Regression model since it seems like a solid place to start. After some trial and error, a second Dense layer for the model was added to hopefully capture a bit more complexity."
      ]
    },
    {
      "cell_type": "code",
      "execution_count": null,
      "metadata": {
        "id": "lYMalYMGzwoT"
      },
      "outputs": [],
      "source": [
        "from tensorflow import keras\n",
        "\n",
        "model = keras.Sequential([\n",
        "\tkeras.layers.Dense(128, activation='relu'),\n",
        "\tkeras.layers.Dense(128, activation='relu'),\n",
        "\tkeras.layers.Dense(1, activation='sigmoid')\n",
        "])\n",
        "\n",
        "model.compile(\n",
        "    optimizer=keras.optimizers.Adam(learning_rate=0.01),\n",
        "    loss='mse'\n",
        ")"
      ]
    },
    {
      "attachments": {},
      "cell_type": "markdown",
      "metadata": {
        "id": "8SR_Dpj1zwox"
      },
      "source": [
        "## Training the model"
      ]
    },
    {
      "cell_type": "code",
      "execution_count": null,
      "metadata": {
        "colab": {
          "base_uri": "https://localhost:8080/"
        },
        "id": "Z_xQn9DMzwpC",
        "outputId": "9f7d4004-18e7-405f-f2f8-fb4c82fa3713"
      },
      "outputs": [],
      "source": [
        "model.fit(X_all, y_all, epochs=10, batch_size=128)\n",
        "model.save(f'{weights_directory}lichess_trained_model')"
      ]
    }
  ],
  "metadata": {
    "accelerator": "GPU",
    "colab": {
      "provenance": []
    },
    "gpuClass": "standard",
    "kernelspec": {
      "display_name": "env",
      "language": "python",
      "name": "python3"
    },
    "language_info": {
      "codemirror_mode": {
        "name": "ipython",
        "version": 3
      },
      "file_extension": ".py",
      "mimetype": "text/x-python",
      "name": "python",
      "nbconvert_exporter": "python",
      "pygments_lexer": "ipython3",
      "version": "3.10.6"
    },
    "orig_nbformat": 4
  },
  "nbformat": 4,
  "nbformat_minor": 0
}
