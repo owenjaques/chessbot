{
 "cells": [
  {
   "cell_type": "code",
   "execution_count": 1,
   "metadata": {},
   "outputs": [],
   "source": [
    "import numpy as np\n",
    "import pickle\n",
    "# load data from 1mil games and train the model\n",
    "data = np.load('100k/training_set.npz', allow_pickle=True)\n",
    "val = np.load('100k/validation_set.npz', allow_pickle=True)"
   ]
  },
  {
   "cell_type": "code",
   "execution_count": 2,
   "metadata": {},
   "outputs": [],
   "source": [
    "trainX = data['X']\n",
    "trainY = data['y']"
   ]
  },
  {
   "cell_type": "code",
   "execution_count": 3,
   "metadata": {},
   "outputs": [],
   "source": [
    "valX = val['X']\n",
    "valY = val['y']"
   ]
  },
  {
   "cell_type": "code",
   "execution_count": 4,
   "metadata": {},
   "outputs": [],
   "source": [
    "from board_processing import Boardprocessing\n",
    "\n",
    "# convert the board to a 1D array\n",
    "trainX1 = np.array([Boardprocessing(board, \"V1\").get_board_image().reshape(8,8) for board in trainX])\n",
    "trainX2 = np.array([Boardprocessing(board, \"V2\").get_board_image().reshape(8, 8) for board in trainX])\n"
   ]
  },
  {
   "cell_type": "code",
   "execution_count": 5,
   "metadata": {},
   "outputs": [],
   "source": [
    "valX1 = np.array([Boardprocessing(board, \"V1\").get_board_image().reshape(8,8) for board in valX])\n",
    "valX2 = np.array([Boardprocessing(board, \"V2\").get_board_image().reshape(8,8) for board in valX])"
   ]
  },
  {
   "cell_type": "code",
   "execution_count": 145,
   "metadata": {},
   "outputs": [],
   "source": [
    "import torch\n",
    "import torch.nn as nn\n",
    "import torch.nn.functional as F\n",
    "\n",
    "\n",
    "def train1(model, optimizer, loss_fn, train_loader, val_loader, num_epochs):\n",
    "    train_loss = []\n",
    "    val_loss = []\n",
    "    cross_loss = []\n",
    "    train_acc = []\n",
    "    val_acc = []\n",
    "\n",
    "    classes = ('0','1','2','3','4','5','6', '7','8','9',)   \n",
    "\n",
    "    criterion = nn.CrossEntropyLoss()\n",
    "\n",
    "    optimizer = torch.optim.SGD(model.parameters(), lr=0.001, momentum=0.9)\n",
    "\n",
    "    for epoch in range(num_epochs):\n",
    "        # Training phase\n",
    "        model.train()\n",
    "        running_loss = 0.0\n",
    "        running_acc = 0.0\n",
    "        for inputs, labels in train_loader:\n",
    "            optimizer.zero_grad()\n",
    "            outputs = model(inputs)\n",
    "            loss = criterion(outputs, labels)\n",
    "            loss.backward()\n",
    "            optimizer.step()\n",
    "\n",
    "            running_loss += loss.item() * inputs.size(0)\n",
    "            _, preds = torch.max(outputs, 1)\n",
    "            # convert labels and preds to integers\n",
    "            int_labels = torch.round(labels * 10).type(torch.LongTensor)\n",
    "            int_preds = torch.round(preds.float() / 10).type(torch.LongTensor)\n",
    "            # compute accuracy\n",
    "            running_acc += torch.sum(int_preds == int_labels)\n",
    "\n",
    "        epoch_loss = running_loss / len(train_loader.dataset)\n",
    "        epoch_acc = running_acc / len(train_loader.dataset)\n",
    "        train_loss.append(epoch_loss)\n",
    "        train_acc.append(epoch_acc)\n",
    "\n",
    "        # Validation phase\n",
    "        model.eval()\n",
    "        running_loss = 0.0\n",
    "        running_acc = 0.0\n",
    "        with torch.no_grad():\n",
    "            for inputs, labels in val_loader:\n",
    "                outputs = model(inputs)\n",
    "                loss = loss_fn(outputs, labels)\n",
    "\n",
    "                running_loss += loss.item() * inputs.size(0)\n",
    "                _, preds = torch.max(outputs, 1)\n",
    "                running_acc += torch.sum(preds == labels)\n",
    "\n",
    "        epoch_loss = running_loss / len(val_loader.dataset)\n",
    "        epoch_acc = running_acc / len(val_loader.dataset)\n",
    "        val_loss.append(epoch_loss)\n",
    "        val_acc.append(epoch_acc)\n",
    "\n",
    "        # Print progress\n",
    "        print(f'Epoch {epoch+1}/{num_epochs}, Train Loss: {epoch_loss:.4f}, Train Acc: {epoch_acc:.4f}, Val Loss: {epoch_loss:.4f}, Val Acc: {epoch_acc:.4f}')\n",
    "\n",
    "    # Return the training history\n",
    "    return train_loss, train_acc, val_loss, val_acc\n"
   ]
  },
  {
   "cell_type": "code",
   "execution_count": null,
   "metadata": {},
   "outputs": [],
   "source": [
    "def train(model, optimizer, criterion, train_loader, val_loader, num_epochs, lr=0.0015, momentum=0.9):\n",
    "    train_loss = []\n",
    "    val_loss = []\n",
    "    cross_loss = []\n",
    "    train_acc = []\n",
    "    val_acc = []\n",
    "\n",
    "    optimizer = torch.optim.SGD(model.parameters(), lr=lr , momentum=momentum)\n",
    "\n",
    "    for epoch in range(num_epochs):\n",
    "        # Training phase\n",
    "        model.train()\n",
    "        running_loss = 0.0\n",
    "        running_acc = 0.0\n",
    "        for inputs, labels in train_loader:\n",
    "            if torch.cuda.is_available():\n",
    "                inputs, labels = inputs.cuda(), labels.cuda()\n",
    "\n",
    "            optimizer.zero_grad()\n",
    "            outputs = model(inputs)\n",
    "            loss = criterion(outputs, labels)\n",
    "            loss.backward()\n",
    "            optimizer.step()\n",
    "\n",
    "            running_loss += loss.item() * inputs.size(0)\n",
    "            _, preds = torch.max(outputs, 1)\n",
    "\n",
    "        epoch_loss = running_loss / len(train_loader.dataset)\n",
    "        train_loss.append(epoch_loss)\n",
    "\n",
    "        # Validation phase\n",
    "        model.eval()\n",
    "        running_loss = 0.0\n",
    "        #running_acc = 0.0\n",
    "        with torch.no_grad():\n",
    "            for inputs, labels in val_loader:\n",
    "                if torch.cuda.is_available():\n",
    "                        inputs, labels = inputs.cuda(), labels.cuda()\n",
    "                        \n",
    "                outputs = model(inputs)\n",
    "                loss = criterion(outputs, labels)\n",
    "\n",
    "                running_loss += loss.item() * inputs.size(0)\n",
    "                _, preds = torch.max(outputs, 1)\n",
    "\n",
    "        epoch_loss_v = running_loss / len(val_loader.dataset)\n",
    "\n",
    "        val_loss.append(epoch_loss_v)\n",
    "\n",
    "        # Print progress\n",
    "        print(f'Epoch {epoch+1}/{num_epochs}, Train Loss: {epoch_loss:.4f},  Val Loss: {epoch_loss_v:.4f} ')\n",
    "\n",
    "    # Return the training history\n",
    "    return train_loss, train_acc, val_loss, val_acc\n"
   ]
  },
  {
   "cell_type": "code",
   "execution_count": null,
   "metadata": {},
   "outputs": [],
   "source": [
    "def train(model, optimizer, criterion, train_loader, val_loader, num_epochs, lr=0.0015, momentum=0.9):\n",
    "    train_loss = []\n",
    "    val_loss = []\n",
    "    cross_loss = []\n",
    "    train_acc = []\n",
    "    val_acc = []\n",
    "\n",
    "    optimizer = torch.optim.SGD(model.parameters(), lr=lr , momentum=momentum)\n",
    "\n",
    "    for epoch in range(num_epochs):\n",
    "        # Training phase\n",
    "        model.train()\n",
    "        running_loss = 0.0\n",
    "        running_acc = 0.0\n",
    "        for inputs, labels in train_loader:\n",
    "            if torch.cuda.is_available():\n",
    "                inputs, labels = inputs.cuda(), labels.cuda()\n",
    "\n",
    "            optimizer.zero_grad()\n",
    "            outputs = model(inputs)\n",
    "            loss = criterion(outputs, labels)\n",
    "            loss.backward()\n",
    "            optimizer.step()\n",
    "\n",
    "            running_loss += loss.item() * inputs.size(0)\n",
    "            _, preds = torch.max(outputs, 1)\n",
    "\n",
    "        epoch_loss = running_loss / len(train_loader.dataset)\n",
    "        train_loss.append(epoch_loss)\n",
    "\n",
    "        # Validation phase\n",
    "        model.eval()\n",
    "        running_loss = 0.0\n",
    "        #running_acc = 0.0\n",
    "        with torch.no_grad():\n",
    "            for inputs, labels in val_loader:\n",
    "                if torch.cuda.is_available():\n",
    "                        inputs, labels = inputs.cuda(), labels.cuda()\n",
    "                        \n",
    "                outputs = model(inputs)\n",
    "                loss = criterion(outputs, labels)\n",
    "\n",
    "                running_loss += loss.item() * inputs.size(0)\n",
    "                _, preds = torch.max(outputs, 1)\n",
    "\n",
    "        epoch_loss_v = running_loss / len(val_loader.dataset)\n",
    "\n",
    "        val_loss.append(epoch_loss_v)\n",
    "\n",
    "        # Print progress\n",
    "        print(f'Epoch {epoch+1}/{num_epochs}, Train Loss: {epoch_loss:.4f},  Val Loss: {epoch_loss_v:.4f} ')\n",
    "\n",
    "    # Return the training history\n",
    "    return train_loss, train_acc, val_loss, val_acc\n"
   ]
  },
  {
   "cell_type": "code",
   "execution_count": 83,
   "metadata": {},
   "outputs": [
    {
     "name": "stdout",
     "output_type": "stream",
     "text": [
      "The autoreload extension is already loaded. To reload it, use:\n",
      "  %reload_ext autoreload\n"
     ]
    }
   ],
   "source": [
    "%load_ext autoreload\n",
    "%autoreload 2\n",
    "from chesscnn import ChessCNN"
   ]
  },
  {
   "attachments": {},
   "cell_type": "markdown",
   "metadata": {},
   "source": [
    "#############################################################\n",
    "\n",
    "V1 Board representation"
   ]
  },
  {
   "cell_type": "code",
   "execution_count": 482,
   "metadata": {},
   "outputs": [
    {
     "name": "stdout",
     "output_type": "stream",
     "text": [
      "Epoch 1/10, Train Loss: 0.0850,  Val Loss: 0.0821 \n",
      "Epoch 2/10, Train Loss: 0.0831,  Val Loss: 0.0824 \n",
      "Epoch 3/10, Train Loss: 0.0821,  Val Loss: 0.0865 \n",
      "Epoch 4/10, Train Loss: 0.0812,  Val Loss: 0.0795 \n",
      "Epoch 5/10, Train Loss: 0.0805,  Val Loss: 0.0792 \n",
      "Epoch 6/10, Train Loss: 0.0799,  Val Loss: 0.0792 \n",
      "Epoch 7/10, Train Loss: 0.0794,  Val Loss: 0.0783 \n",
      "Epoch 8/10, Train Loss: 0.0789,  Val Loss: 0.0841 \n",
      "Epoch 9/10, Train Loss: 0.0785,  Val Loss: 0.0783 \n",
      "Epoch 10/10, Train Loss: 0.0780,  Val Loss: 0.0780 \n"
     ]
    }
   ],
   "source": [
    "import torch\n",
    "from torch.utils.data import DataLoader, TensorDataset\n",
    "import numpy as np\n",
    "\n",
    "from sklearn import preprocessing\n",
    "\n",
    "from chesscnn import ChessCNN\n",
    "\n",
    "# Assume you have numpy arrays \n",
    "# X_train, y_train, X_val, y_val\n",
    "X_train = trainX1\n",
    "y_train = trainY\n",
    "X_val = valX1\n",
    "y_val = valY\n",
    "\n",
    "\n",
    "# Convert numpy arrays to PyTorch tensors\n",
    "X_train_tensor = torch.tensor(X_train).float()\n",
    "y_train_tensor = torch.tensor(y_train).float()\n",
    "\n",
    "X_val_tensor = torch.tensor(X_val).float()\n",
    "y_val_tensor = torch.tensor(y_val).float()\n",
    "\n",
    "# Create PyTorch datasets\n",
    "train_dataset = TensorDataset(X_train_tensor, y_train_tensor)\n",
    "val_dataset = TensorDataset(X_val_tensor, y_val_tensor)\n",
    "\n",
    "# Create data loaders\n",
    "batch_size = 1\n",
    "train_loader = DataLoader(train_dataset, batch_size=batch_size, shuffle=True)\n",
    "val_loader = DataLoader(val_dataset, batch_size=batch_size, shuffle=False)\n",
    "\n",
    "# Define the model, optimizer, and loss function\n",
    "model = ChessCNN()\n",
    "optimizer = torch.optim.Adam(model.parameters(), lr=0.001)\n",
    "loss_fn = torch.nn.MSELoss()\n",
    "\n",
    "# Train the model\n",
    "num_epochs = 10\n",
    "train_loss, train_acc, val_loss, val_acc = train(\n",
    "    model, optimizer, loss_fn, train_loader, val_loader, num_epochs)\n"
   ]
  },
  {
   "cell_type": "markdown",
   "metadata": {},
   "source": []
  },
  {
   "cell_type": "code",
   "execution_count": 485,
   "metadata": {},
   "outputs": [
    {
     "data": {
      "image/png": "[encoded data removed]",
      "text/plain": [
       "<Figure size 640x480 with 1 Axes>"
      ]
     },
     "metadata": {},
     "output_type": "display_data"
    }
   ],
   "source": [
    "import matplotlib.pyplot as plt\n",
    "\n",
    "\"\"\"\n",
    "\n",
    "\"\"\"\n",
    "\n",
    "\n",
    "plt.plot(train_loss, label='Train Loss')\n",
    "plt.plot(val_loss, label='Val Loss')\n",
    "plt.legend()\n",
    "plt.xlabel('Epoch')\n",
    "plt.ylabel('Loss')\n",
    "plt.show()\n"
   ]
  },
  {
   "cell_type": "code",
   "execution_count": 486,
   "metadata": {},
   "outputs": [
    {
     "data": {
      "text/plain": [
       "<All keys matched successfully>"
      ]
     },
     "execution_count": 486,
     "metadata": {},
     "output_type": "execute_result"
    }
   ],
   "source": [
    "# save the model\n",
    "torch.save(model.state_dict(), '100k/modelV1_10epoch.pt')\n",
    "\n",
    "# load the model\n",
    "model.load_state_dict(torch.load('100k/modelV1_10epoch.pt'))\n"
   ]
  },
  {
   "attachments": {},
   "cell_type": "markdown",
   "metadata": {},
   "source": [
    "##################################################################\n",
    "\n",
    "Same data with V2 board representation"
   ]
  },
  {
   "cell_type": "code",
   "execution_count": 43,
   "metadata": {},
   "outputs": [
    {
     "name": "stdout",
     "output_type": "stream",
     "text": [
      "torch.Size([1000, 8, 8])\n"
     ]
    }
   ],
   "source": [
    "# Assume you have numpy arrays \n",
    "# X_train, y_train, X_val, y_val\n",
    "X_train = trainX2[0:1000]\n",
    "y_train = trainY[0:1000]\n",
    "X_val = valX2[0:1000]\n",
    "y_val = valY[0:1000]\n",
    "\n",
    "# Convert numpy arrays to PyTorch tensors\n",
    "X_train_tensor = torch.tensor(X_train).float()\n",
    "y_train_tensor = torch.tensor(y_train).float()\n",
    "\n",
    "X_val_tensor = torch.tensor(X_val).float()\n",
    "y_val_tensor = torch.tensor(y_val).float()\n",
    "\n",
    "print(X_train_tensor.shape)"
   ]
  },
  {
   "cell_type": "code",
   "execution_count": 91,
   "metadata": {},
   "outputs": [
    {
     "ename": "IndexError",
     "evalue": "Dimension out of range (expected to be in range of [-1, 0], but got 1)",
     "output_type": "error",
     "traceback": [
      "\u001b[1;31m---------------------------------------------------------------------------\u001b[0m",
      "\u001b[1;31mIndexError\u001b[0m                                Traceback (most recent call last)",
      "\u001b[1;32m~\\AppData\\Local\\Temp\\ipykernel_7128\\3571846264.py\u001b[0m in \u001b[0;36m<module>\u001b[1;34m\u001b[0m\n\u001b[0;32m     37\u001b[0m \u001b[1;31m# Train the model\u001b[0m\u001b[1;33m\u001b[0m\u001b[1;33m\u001b[0m\u001b[0m\n\u001b[0;32m     38\u001b[0m \u001b[0mnum_epochs\u001b[0m \u001b[1;33m=\u001b[0m \u001b[1;36m10\u001b[0m\u001b[1;33m\u001b[0m\u001b[1;33m\u001b[0m\u001b[0m\n\u001b[1;32m---> 39\u001b[1;33m train_loss2, train_acc, val_loss2, val_acc = train(\n\u001b[0m\u001b[0;32m     40\u001b[0m     model, optimizer, loss_fn, train_loader, val_loader, num_epochs)\n\u001b[0;32m     41\u001b[0m \u001b[1;33m\u001b[0m\u001b[0m\n",
      "\u001b[1;32m~\\AppData\\Local\\Temp\\ipykernel_7128\\3346380889.py\u001b[0m in \u001b[0;36mtrain\u001b[1;34m(model, optimizer, criterion, train_loader, val_loader, num_epochs, lr, momentum)\u001b[0m\n\u001b[0;32m     24\u001b[0m \u001b[1;33m\u001b[0m\u001b[0m\n\u001b[0;32m     25\u001b[0m             \u001b[0mrunning_loss\u001b[0m \u001b[1;33m+=\u001b[0m \u001b[0mloss\u001b[0m\u001b[1;33m.\u001b[0m\u001b[0mitem\u001b[0m\u001b[1;33m(\u001b[0m\u001b[1;33m)\u001b[0m \u001b[1;33m*\u001b[0m \u001b[0minputs\u001b[0m\u001b[1;33m.\u001b[0m\u001b[0msize\u001b[0m\u001b[1;33m(\u001b[0m\u001b[1;36m0\u001b[0m\u001b[1;33m)\u001b[0m\u001b[1;33m\u001b[0m\u001b[1;33m\u001b[0m\u001b[0m\n\u001b[1;32m---> 26\u001b[1;33m             \u001b[0m_\u001b[0m\u001b[1;33m,\u001b[0m \u001b[0mpreds\u001b[0m \u001b[1;33m=\u001b[0m \u001b[0mtorch\u001b[0m\u001b[1;33m.\u001b[0m\u001b[0mmax\u001b[0m\u001b[1;33m(\u001b[0m\u001b[0moutputs\u001b[0m\u001b[1;33m,\u001b[0m \u001b[1;36m1\u001b[0m\u001b[1;33m)\u001b[0m\u001b[1;33m\u001b[0m\u001b[1;33m\u001b[0m\u001b[0m\n\u001b[0m\u001b[0;32m     27\u001b[0m \u001b[1;33m\u001b[0m\u001b[0m\n\u001b[0;32m     28\u001b[0m         \u001b[0mepoch_loss\u001b[0m \u001b[1;33m=\u001b[0m \u001b[0mrunning_loss\u001b[0m \u001b[1;33m/\u001b[0m \u001b[0mlen\u001b[0m\u001b[1;33m(\u001b[0m\u001b[0mtrain_loader\u001b[0m\u001b[1;33m.\u001b[0m\u001b[0mdataset\u001b[0m\u001b[1;33m)\u001b[0m\u001b[1;33m\u001b[0m\u001b[1;33m\u001b[0m\u001b[0m\n",
      "\u001b[1;31mIndexError\u001b[0m: Dimension out of range (expected to be in range of [-1, 0], but got 1)"
     ]
    }
   ],
   "source": [
    "import torch\n",
    "from torch.utils.data import DataLoader, TensorDataset\n",
    "import numpy as np\n",
    "\n",
    "from sklearn import preprocessing\n",
    "\n",
    "from chesscnn import ChessCNN\n",
    "\n",
    "# Assume you have numpy arrays \n",
    "# X_train, y_train, X_val, y_val\n",
    "X_train = trainX2[0:1000]\n",
    "y_train = trainY[0:1000]\n",
    "X_val = valX2[0:1000]\n",
    "y_val = valY[0:1000]\n",
    "\n",
    "# Convert numpy arrays to PyTorch tensors\n",
    "X_train_tensor = torch.tensor(X_train).float()\n",
    "y_train_tensor = torch.tensor(y_train).float()\n",
    "\n",
    "X_val_tensor = torch.tensor(X_val).float()\n",
    "y_val_tensor = torch.tensor(y_val).float()\n",
    "\n",
    "# Create PyTorch datasets\n",
    "train_dataset = TensorDataset(X_train_tensor, y_train_tensor)\n",
    "val_dataset = TensorDataset(X_val_tensor, y_val_tensor)\n",
    "\n",
    "# Create data loaders\n",
    "batch_size = 1\n",
    "train_loader = DataLoader(train_dataset, batch_size=batch_size, shuffle=True)\n",
    "val_loader = DataLoader(val_dataset, batch_size=batch_size, shuffle=False)\n",
    "\n",
    "# Define the model, optimizer, and loss function\n",
    "model = ChessCNN()\n",
    "optimizer = torch.optim.Adam(model.parameters(), lr=0.001)\n",
    "loss_fn = torch.nn.MSELoss()\n",
    "\n",
    "# Train the model\n",
    "num_epochs = 10\n",
    "train_loss2, train_acc, val_loss2, val_acc = train(\n",
    "    model, optimizer, loss_fn, train_loader, val_loader, num_epochs)\n",
    "\n",
    "plt.plot(train_loss2, label='Training loss')\n",
    "plt.plot(val_loss2, label='Validation loss')\n",
    "plt.legend(frameon=False)\n",
    "plt.show()\n"
   ]
  },
  {
   "cell_type": "code",
   "execution_count": 80,
   "metadata": {},
   "outputs": [
    {
     "name": "stdout",
     "output_type": "stream",
     "text": [
      "torch.Size([64, 16, 16])\n",
      "torch.Size([128, 10, 10])\n",
      "torch.Size([128, 16, 16])\n",
      "torch.Size([128, 256])\n",
      "torch.Size([128, 512])\n",
      "torch.Size([128, 512])\n",
      "torch.Size([128, 1])\n"
     ]
    }
   ],
   "source": [
    "import torch\n",
    "from torch.utils.data import DataLoader, TensorDataset\n",
    "import numpy as np\n",
    "# import nn\n",
    "import torch.nn as nn\n",
    "import torch.nn.functional as F\n",
    "\n",
    "x = torch.randn(1, 8, 8)\n",
    "\n",
    "conv1 = nn.Conv2d(1, 64, kernel_size=1, padding=4)\n",
    "conv2 = nn.Conv2d(64, 128, kernel_size=7)\n",
    "conv3 = nn.Conv2d(128, 128, kernel_size=1, padding=3)\n",
    "pool = nn.MaxPool2d(2, 2)\n",
    "dropout = nn.Dropout(0.2)\n",
    "\n",
    "fc1 = nn.Linear(64 * 2 * 2, 512)\n",
    "fc2 = nn.Linear(512, 512)\n",
    "fc3 = nn.Linear(512, 1)\n",
    "\n",
    "# apply convolutional layers and activation functions with pooling\n",
    "x = F.relu(conv1(x))\n",
    "#x = pool(x)\n",
    "print(x.shape)\n",
    "x = F.relu(conv2(x))\n",
    "#x = pool(x)\n",
    "print(x.shape)\n",
    "x = F.relu(conv3(x))\n",
    "#x = pool(x)\n",
    "print(x.shape)\n",
    "\n",
    "x = x.view(x.size(0), -1)\n",
    "print(x.shape)\n",
    "\n",
    "x = F.relu(fc1(x))\n",
    "print(x.shape)\n",
    "x = F.relu(fc2(x))\n",
    "print(x.shape)\n",
    "x = fc3(x)\n",
    "print(x.shape)\n",
    "\n"
   ]
  },
  {
   "cell_type": "code",
   "execution_count": null,
   "metadata": {},
   "outputs": [],
   "source": []
  }
 ],
 "metadata": {
  "kernelspec": {
   "display_name": "learn",
   "language": "python",
   "name": "python3"
  },
  "language_info": {
   "codemirror_mode": {
    "name": "ipython",
    "version": 3
   },
   "file_extension": ".py",
   "mimetype": "text/x-python",
   "name": "python",
   "nbconvert_exporter": "python",
   "pygments_lexer": "ipython3",
   "version": "3.9.15"
  },
  "orig_nbformat": 4
 },
 "nbformat": 4,
 "nbformat_minor": 2
}
