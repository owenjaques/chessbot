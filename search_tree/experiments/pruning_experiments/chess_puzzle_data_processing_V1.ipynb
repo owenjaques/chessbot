{
 "cells": [
  {
   "cell_type": "code",
   "execution_count": 1,
   "id": "b7e7b53b",
   "metadata": {},
   "outputs": [],
   "source": [
    "import numpy as np \n",
    "import pandas as pd\n",
    "import chess.svg\n",
    "import sys\n",
    "\n",
    "puzzles =  pd.read_csv('Data\\\\kaggle_lichess_puzzle_transformed.csv')\n",
    "\n",
    "pieces_list = []*puzzles['PuzzleId'].nunique()\n",
    "pieces_secondary_list = []*puzzles['PuzzleId'].nunique()\n",
    "\n",
    "squares_list = []*puzzles['PuzzleId'].nunique()\n",
    "squares_list_two = []*puzzles['PuzzleId'].nunique()\n",
    "boards_list = []*puzzles['PuzzleId'].nunique()\n",
    "\n",
    "for each in range(0,puzzles['PuzzleId'].nunique()):\n",
    "\n",
    "    \n",
    "    fen = puzzles['FEN'][each]\n",
    "    moves = puzzles['Moves'][each]\n",
    "    board = chess.Board(fen)\n",
    "    moves = moves.split()\n",
    "    square = moves[0][:2]\n",
    "    square2 = moves[0][2:4]\n",
    "    x = ord(square[0]) - 96\n",
    "    y = square[1]\n",
    "    x2 = ord(square2[0]) - 96\n",
    "    y2 = square2[1]\n",
    "        \n",
    "    pieces_list_x = []    \n",
    "    \n",
    "    for index in range(0, len(moves)):\n",
    "        \n",
    "        a_piece = moves[index][:2]\n",
    "        \n",
    "        if a_piece != None:\n",
    "            \n",
    "            piece_symbol_x = board.piece_at(chess.parse_square(a_piece)).symbol()\n",
    "            \n",
    "            if piece_symbol_x == 'p':\n",
    "                pieces_list_x.append(3)\n",
    "            elif piece_symbol_x == 'P':\n",
    "                pieces_list_x.append(-5)\n",
    "            elif piece_symbol_x == 'b':\n",
    "                pieces_list_x.append(11)\n",
    "            elif piece_symbol_x == 'B':\n",
    "                pieces_list_x.append(-13)\n",
    "            elif piece_symbol_x == 'n':\n",
    "                pieces_list_x.append(17)\n",
    "            elif piece_symbol_x == 'N':\n",
    "                pieces_list_x.append(-19)\n",
    "            elif piece_symbol_x == 'r':\n",
    "                pieces_list_x.append(29)\n",
    "            elif piece_symbol_x == 'R':\n",
    "                pieces_list_x.append(-31)\n",
    "            elif piece_symbol_x == 'q':\n",
    "                pieces_list_x.append(41)\n",
    "            elif piece_symbol_x == 'Q':\n",
    "                pieces_list_x.append(-43)\n",
    "            elif piece_symbol_x == 'k':\n",
    "                pieces_list_x.append(101)\n",
    "            elif piece_symbol_x == 'K':\n",
    "                pieces_list_x.append(-103)\n",
    "                \n",
    "        board.push_san(moves[index])\n",
    "            \n",
    "    pieces_secondary_list.append(pieces_list_x)\n",
    "    \n",
    "    turn_marker = int(np.sign(pieces_list_x[0]))\n",
    "    \n",
    "    \n",
    "    fen_test = list(fen.split()[0])\n",
    "    board_array = []\n",
    "    \n",
    "\n",
    "    for index, each_two in enumerate( fen_test):\n",
    "        if each_two == 'p':\n",
    "            board_array.append(3*turn_marker)\n",
    "        elif each_two == 'P':\n",
    "            board_array.append(-5*turn_marker)\n",
    "        elif each_two == 'b':\n",
    "            board_array.append(11*turn_marker)\n",
    "        elif each_two == 'B':\n",
    "            board_array.append(-13*turn_marker)\n",
    "        elif each_two == 'n':\n",
    "            board_array.append(17*turn_marker)\n",
    "        elif each_two == 'N':\n",
    "            board_array.append(-19*turn_marker)\n",
    "        elif each_two == 'r':\n",
    "            board_array.append(29*turn_marker)\n",
    "        elif each_two == 'R':\n",
    "            board_array.append(-31*turn_marker)\n",
    "        elif each_two == 'q':\n",
    "            board_array.append(41*turn_marker)\n",
    "        elif each_two == 'Q':\n",
    "            board_array.append(-43*turn_marker)\n",
    "        elif each_two == 'k':\n",
    "            board_array.append(101*turn_marker)\n",
    "        elif each_two == 'K':\n",
    "            board_array.append(-103*turn_marker)\n",
    "        elif each_two.isdigit():\n",
    "            for x in range(0, int(each_two)):\n",
    "                board_array.append(0)\n",
    "                \n",
    "    boards_list.append(board_array)\n",
    "    \n",
    "    squares_list.append(8*(int(y)-1)+int(x))\n",
    "    squares_list_two.append(8*(int(y2)-1)+int(x2))\n",
    "\n",
    "\n"
   ]
  },
  {
   "cell_type": "code",
   "execution_count": 2,
   "id": "534d8549",
   "metadata": {},
   "outputs": [],
   "source": [
    "for i, each in enumerate(pieces_secondary_list):\n",
    "    if len(each) > 6:\n",
    "        pieces_secondary_list[i] = pieces_secondary_list[i][:6]\n",
    "    else:\n",
    "        for index in range(len(each),6):\n",
    "            pieces_secondary_list[i].append(0)\n",
    "    "
   ]
  },
  {
   "cell_type": "code",
   "execution_count": 3,
   "id": "af45aa0a",
   "metadata": {},
   "outputs": [],
   "source": [
    "data_cleaned = pd.DataFrame(boards_list)"
   ]
  },
  {
   "cell_type": "code",
   "execution_count": 4,
   "id": "1df0b7f9",
   "metadata": {},
   "outputs": [],
   "source": [
    "data_cleaned['Rating'] = puzzles['Rating']\n",
    "data_cleaned['RatingDeviation'] = puzzles['RatingDeviation']\n",
    "data_cleaned['square'] = squares_list\n",
    "data_cleaned['square_two'] = squares_list_two"
   ]
  },
  {
   "cell_type": "code",
   "execution_count": 5,
   "id": "89f05ab3",
   "metadata": {},
   "outputs": [],
   "source": [
    "bust_a_move = []\n",
    "\n",
    "for each in range(0,puzzles['PuzzleId'].nunique()):\n",
    "    some_move = puzzles['Moves'][each].split()\n",
    "    bust_a_move.append(some_move[0])"
   ]
  },
  {
   "cell_type": "code",
   "execution_count": 6,
   "id": "59103d42",
   "metadata": {},
   "outputs": [],
   "source": [
    "data_cleaned['MOVE'] = bust_a_move\n",
    "data_cleaned['MOVES'] = puzzles['Moves']\n",
    "data_cleaned[['first','second','third','fourth','fifth','sixth']]=pieces_secondary_list"
   ]
  },
  {
   "cell_type": "code",
   "execution_count": 7,
   "id": "92cf9292",
   "metadata": {},
   "outputs": [],
   "source": [
    "data_cleaned['FEN'] = puzzles['FEN']\n",
    "data_cleaned['PuzzleId'] = puzzles['PuzzleId']\n",
    "data_cleaned['GameUrl'] = puzzles['GameUrl']\n"
   ]
  },
  {
   "cell_type": "code",
   "execution_count": 8,
   "id": "27671776",
   "metadata": {},
   "outputs": [],
   "source": [
    "data_cleaned.to_csv('Data\\\\processed_full_puzzles_with_twinprimes_turnmarker_2.csv', encoding='utf-8', index=False)"
   ]
  },
  {
   "cell_type": "code",
   "execution_count": null,
   "id": "bcbe8f99",
   "metadata": {},
   "outputs": [],
   "source": []
  },
  {
   "cell_type": "code",
   "execution_count": null,
   "id": "dd55477a",
   "metadata": {},
   "outputs": [],
   "source": []
  }
 ],
 "metadata": {
  "kernelspec": {
   "display_name": "Python 3 (ipykernel)",
   "language": "python",
   "name": "python3"
  },
  "language_info": {
   "codemirror_mode": {
    "name": "ipython",
    "version": 3
   },
   "file_extension": ".py",
   "mimetype": "text/x-python",
   "name": "python",
   "nbconvert_exporter": "python",
   "pygments_lexer": "ipython3",
   "version": "3.9.15"
  }
 },
 "nbformat": 4,
 "nbformat_minor": 5
}
