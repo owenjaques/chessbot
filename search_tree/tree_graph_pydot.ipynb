{
 "cells": [
  {
   "cell_type": "code",
   "execution_count": 1,
   "metadata": {},
   "outputs": [],
   "source": [
    "import graphviz\n",
    "import pydot\n",
    "\n",
    "def tree_graph_pydot(tree):\n",
    "    \"\"\"Create tree png using graphviz.\n",
    "    Args:\n",
    "        tree: scikit-learn DecsionTree.\n",
    "        feature_names: list of feature names.\n",
    "    Returns:\n",
    "        graphviz.Source\n",
    "    \"\"\"\n",
    "    dot_data = tree.export_graphviz(tree, out_file=None,\n",
    "                                    filled=True, rounded=True,\n",
    "                                    special_characters=True)\n",
    "    graph = pydot.graph_from_dot_data(dot_data)\n",
    "    if graph is not None:\n",
    "        return graphviz.Source(graph[0].create_png())\n",
    "    else:\n",
    "        return None\n",
    "    \n"
   ]
  },
  {
   "cell_type": "code",
   "execution_count": 2,
   "metadata": {},
   "outputs": [],
   "source": [
    "import MCTS as mcts\n",
    "import chess\n",
    "from agents import *"
   ]
  },
  {
   "cell_type": "code",
   "execution_count": 3,
   "metadata": {},
   "outputs": [],
   "source": [
    "board = chess.Board()\n",
    "for _ in range(100):\n",
    "    board.push(random.choice(list(board.legal_moves)))"
   ]
  },
  {
   "cell_type": "code",
   "execution_count": 4,
   "metadata": {},
   "outputs": [],
   "source": [
    "searchy = mcts.MCTS(10,num_simulations=5,max_depth=15,use_heap=False, make_graph=True)"
   ]
  },
  {
   "cell_type": "code",
   "execution_count": 5,
   "metadata": {},
   "outputs": [],
   "source": [
    "dotgraph = searchy.search(board)"
   ]
  },
  {
   "cell_type": "code",
   "execution_count": 12,
   "metadata": {},
   "outputs": [
    {
     "name": "stdout",
     "output_type": "stream",
     "text": [
      "6B1/1p3b2/r4k2/pr3np1/PPpP1q1p/3N1P2/NB1P2K1/Q5R1 w - - 0 51\n"
     ]
    }
   ],
   "source": [
    "print(board.fen())"
   ]
  },
  {
   "cell_type": "code",
   "execution_count": null,
   "metadata": {},
   "outputs": [],
   "source": []
  }
 ],
 "metadata": {
  "kernelspec": {
   "display_name": "learn",
   "language": "python",
   "name": "python3"
  },
  "language_info": {
   "codemirror_mode": {
    "name": "ipython",
    "version": 3
   },
   "file_extension": ".py",
   "mimetype": "text/x-python",
   "name": "python",
   "nbconvert_exporter": "python",
   "pygments_lexer": "ipython3",
   "version": "3.9.15"
  },
  "orig_nbformat": 4
 },
 "nbformat": 4,
 "nbformat_minor": 2
}
