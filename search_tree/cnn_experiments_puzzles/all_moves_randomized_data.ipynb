{
 "cells": [
  {
   "attachments": {},
   "cell_type": "markdown",
   "metadata": {},
   "source": [
    "See move_step_data_generator.py for generation of the below data sets\n",
    "\n",
    "They are formed by taking the original puzzle dataset and taking the first 8 moves"
   ]
  },
  {
   "cell_type": "code",
   "execution_count": null,
   "metadata": {},
   "outputs": [],
   "source": [
    "from move_step_data_generator import make_move\n",
    "import pandas as pd\n",
    "\n",
    "data = pd.read_csv('data_raw/lichess_db_puzzle_move_7.csv', header=None)\n",
    "\n",
    "# make the first move\n",
    "            # data, save_file\n",
    "make_move(data,'data_raw/lichess_db_puzzle_move_8.csv')"
   ]
  },
  {
   "cell_type": "code",
   "execution_count": 10,
   "metadata": {},
   "outputs": [],
   "source": [
    "import pandas as pd\n",
    "data_0 = pd.read_csv('data_raw/lichess_db_puzzle.csv', header=None)\n",
    "data_1 = pd.read_csv('data_raw/lichess_db_puzzle_move_1.csv', header=None)\n",
    "data_2 = pd.read_csv('data_raw/lichess_db_puzzle_move_2.csv', header=None)\n",
    "data_3 = pd.read_csv('data_raw/lichess_db_puzzle_move_3.csv', header=None)\n",
    "data_4 = pd.read_csv('data_raw/lichess_db_puzzle_move_4.csv', header=None)\n",
    "data_5 = pd.read_csv('data_raw/lichess_db_puzzle_move_5.csv', header=None)\n",
    "data_6 = pd.read_csv('data_raw/lichess_db_puzzle_move_6.csv', header=None)\n",
    "data_7 = pd.read_csv('data_raw/lichess_db_puzzle_move_7.csv', header=None)\n",
    "data_8 = pd.read_csv('data_raw/lichess_db_puzzle_move_8.csv', header=None)"
   ]
  },
  {
   "cell_type": "code",
   "execution_count": 11,
   "metadata": {},
   "outputs": [],
   "source": [
    "# merge the data into one dataframe\n",
    "data = pd.concat([data_0, data_1, data_2, data_3, data_4, data_5, data_6, data_7, data_8], ignore_index=True)"
   ]
  },
  {
   "cell_type": "code",
   "execution_count": 17,
   "metadata": {},
   "outputs": [],
   "source": [
    "# save the data to a file\n",
    "data.to_csv('data_raw/lichess_db_puzzle_all_moves.csv', index=False)"
   ]
  },
  {
   "cell_type": "code",
   "execution_count": 2,
   "metadata": {},
   "outputs": [],
   "source": [
    "import pandas as pd\n",
    "data = pd.read_csv('data_raw/lichess_db_puzzle_all_moves.csv', header=None)"
   ]
  },
  {
   "attachments": {},
   "cell_type": "markdown",
   "metadata": {},
   "source": [
    "Encode the data into 12x8x8 format for cnn"
   ]
  },
  {
   "cell_type": "code",
   "execution_count": null,
   "metadata": {},
   "outputs": [],
   "source": [
    "from split_training_data import split_op\n",
    "\n",
    "#load_file, save_dir, file_name, chunk_size=131072, dim=8\n",
    "# split the data into chunks and save them to files\n",
    "split_op('data_raw/lichess_db_puzzle_all_moves.csv', 'version_64x2/data_puzzle_8/', 'data_', chunk_size=65536, dim=12)"
   ]
  },
  {
   "cell_type": "code",
   "execution_count": 5,
   "metadata": {},
   "outputs": [
    {
     "data": {
      "text/plain": [
       "437.9279479980469"
      ]
     },
     "execution_count": 5,
     "metadata": {},
     "output_type": "execute_result"
    }
   ],
   "source": []
  },
  {
   "cell_type": "code",
   "execution_count": null,
   "metadata": {},
   "outputs": [],
   "source": []
  }
 ],
 "metadata": {
  "kernelspec": {
   "display_name": "learn",
   "language": "python",
   "name": "python3"
  },
  "language_info": {
   "codemirror_mode": {
    "name": "ipython",
    "version": 3
   },
   "file_extension": ".py",
   "mimetype": "text/x-python",
   "name": "python",
   "nbconvert_exporter": "python",
   "pygments_lexer": "ipython3",
   "version": "3.9.15"
  },
  "orig_nbformat": 4
 },
 "nbformat": 4,
 "nbformat_minor": 2
}
