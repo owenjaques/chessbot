{
 "cells": [
  {
   "cell_type": "code",
   "execution_count": 1,
   "metadata": {},
   "outputs": [],
   "source": [
    "%load_ext autoreload\n",
    "%autoreload 2\n",
    "from chess_tournament import *\n",
    "from agents import *\n",
    "import os\n",
    "#import stockfish\n",
    "from stockfish import Stockfish\n"
   ]
  },
  {
   "cell_type": "code",
   "execution_count": 2,
   "metadata": {},
   "outputs": [],
   "source": [
    "import sys \n",
    "sys.path.append('..')"
   ]
  },
  {
   "cell_type": "code",
   "execution_count": 3,
   "metadata": {},
   "outputs": [],
   "source": [
    "from chess_tournament import TournamentResults, ChessTournament\n",
    "# set the number of rounds\n",
    "rounds = 1\n",
    "\n",
    "# set the number of games per round\n",
    "games_per_round = 1\n",
    "\n",
    "# set the number of agents\n",
    "agents = [  MCTSBtfSingle(),\n",
    "            MCTSBtfSimple(),\n",
    "            MCTSOwenSingle(),\n",
    "            MCTSOwenSimple(),\n",
    "            MCTSOwenBtfSimple(),\n",
    "            ChessBotAgentBtfSingleInput(),\n",
    "            ChessBotAgentBtfSimpleInput(),\n",
    "            ChessBotAgentOwenSingleInput(),\n",
    "            ChessBotAgentOwenSimpleInput()\n",
    "            ]\n",
    "\n",
    "agentstest = [  MCTSOwenSingle(),\n",
    "                MCTSOwenSingleTEST()]\n",
    "\n",
    "botstest = [ ChessBotAgentOwenSingleInput(),\n",
    "                ChessBotAgentOwenSingleInputTEST()]\n",
    "\n",
    "stockfishtest = [ StockfishAgent1350(),\n",
    "                    StockfishAgent1500()]\n",
    "\n",
    "\n",
    "tourny = ChessTournament(stockfishtest , rounds, games_per_round, should_visualize= True)\n"
   ]
  },
  {
   "cell_type": "code",
   "execution_count": 4,
   "metadata": {},
   "outputs": [
    {
     "name": "stdout",
     "output_type": "stream",
     "text": [
      "Game started!\n",
      "Stockfish1350 Stockfish1500: \n",
      "Move failed!, moving onto next game\n",
      "Stockfish1350 Stockfish1500: *\n",
      "Tournament over!\n",
      "Stockfish1350 win percentage: 0.0\n",
      "Stockfish1500 win percentage: 0.0\n"
     ]
    }
   ],
   "source": [
    "tourny_results = tourny.run_tournament()"
   ]
  },
  {
   "cell_type": "code",
   "execution_count": null,
   "metadata": {},
   "outputs": [],
   "source": []
  }
 ],
 "metadata": {
  "kernelspec": {
   "display_name": "learn",
   "language": "python",
   "name": "python3"
  },
  "language_info": {
   "codemirror_mode": {
    "name": "ipython",
    "version": 3
   },
   "file_extension": ".py",
   "mimetype": "text/x-python",
   "name": "python",
   "nbconvert_exporter": "python",
   "pygments_lexer": "ipython3",
   "version": "3.9.15"
  },
  "orig_nbformat": 4
 },
 "nbformat": 4,
 "nbformat_minor": 2
}
