{
 "cells": [
  {
   "cell_type": "code",
   "execution_count": 1,
   "metadata": {},
   "outputs": [],
   "source": [
    "%load_ext autoreload\n",
    "%autoreload 2\n",
    "from chess_tournament import *\n",
    "from agents import *\n",
    "import os\n",
    "#import stockfish\n",
    "from stockfish import Stockfish\n"
   ]
  },
  {
   "cell_type": "code",
   "execution_count": 2,
   "metadata": {},
   "outputs": [],
   "source": [
    "import sys \n",
    "sys.path.append('..')"
   ]
  },
  {
   "cell_type": "code",
   "execution_count": 3,
   "metadata": {},
   "outputs": [],
   "source": [
    "from chess_tournament import TournamentResults, ChessTournament\n",
    "# set the number of rounds\n",
    "rounds = 1\n",
    "\n",
    "# set the number of games per round\n",
    "games_per_round = 1\n",
    "\n",
    "# set the number of agents\n",
    "agents = [  MCTSBtfSingle(),\n",
    "            MCTSBtfSimple(),\n",
    "            MCTSOwenSingle(),\n",
    "            MCTSOwenSimple(),\n",
    "            MCTSOwenBtfSimple(),\n",
    "            ChessBotAgentBtfSingleInput(),\n",
    "            ChessBotAgentBtfSimpleInput(),\n",
    "            ChessBotAgentOwenSingleInput(),\n",
    "            ChessBotAgentOwenSimpleInput()\n",
    "            ]\n",
    "\n",
    "\n",
    "tourny = ChessTournament(agents, rounds, games_per_round, should_visualize= True)\n"
   ]
  }
 ],
 "metadata": {
  "kernelspec": {
   "display_name": "learn",
   "language": "python",
   "name": "python3"
  },
  "language_info": {
   "codemirror_mode": {
    "name": "ipython",
    "version": 3
   },
   "file_extension": ".py",
   "mimetype": "text/x-python",
   "name": "python",
   "nbconvert_exporter": "python",
   "pygments_lexer": "ipython3",
   "version": "3.9.15"
  },
  "orig_nbformat": 4
 },
 "nbformat": 4,
 "nbformat_minor": 2
}
