{
 "cells": [
  {
   "cell_type": "code",
   "execution_count": 1,
   "metadata": {},
   "outputs": [],
   "source": [
    "%load_ext autoreload\n",
    "%autoreload 2\n",
    "from chess_tournament import *\n",
    "from agents import *"
   ]
  },
  {
   "cell_type": "code",
   "execution_count": 2,
   "metadata": {},
   "outputs": [],
   "source": [
    "import sys \n",
    "sys.path.append('..')"
   ]
  },
  {
   "cell_type": "code",
   "execution_count": 3,
   "metadata": {},
   "outputs": [],
   "source": [
    "from chess_tournament import TournamentResults, ChessTournament\n",
    "# set the number of rounds\n",
    "rounds = 1\n",
    "\n",
    "# set the number of games per round\n",
    "games_per_round = 1\n",
    "\n",
    "# set the number of agents\n",
    "agents = [  MCTSAgent(),\n",
    "            MCTSAgentTEST()\n",
    "            ]\n",
    "\n",
    "tourny = ChessTournament(agents, rounds, games_per_round, should_visualize= True)\n"
   ]
  },
  {
   "cell_type": "code",
   "execution_count": 4,
   "metadata": {},
   "outputs": [
    {
     "name": "stdout",
     "output_type": "stream",
     "text": [
      "Game started!\n",
      "MCTS Agent time 30 num_simulations 1000 max_depth 25 MCTS Agent time 30 TEST!!!: \n"
     ]
    }
   ],
   "source": [
    "# run the tournament\n",
    "tournament_results = tourny.run_tournament()\n"
   ]
  }
 ],
 "metadata": {
  "kernelspec": {
   "display_name": "learn",
   "language": "python",
   "name": "python3"
  },
  "language_info": {
   "codemirror_mode": {
    "name": "ipython",
    "version": 3
   },
   "file_extension": ".py",
   "mimetype": "text/x-python",
   "name": "python",
   "nbconvert_exporter": "python",
   "pygments_lexer": "ipython3",
   "version": "3.9.15"
  },
  "orig_nbformat": 4
 },
 "nbformat": 4,
 "nbformat_minor": 2
}
