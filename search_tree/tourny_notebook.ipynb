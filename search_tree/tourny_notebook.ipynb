{
 "cells": [
  {
   "cell_type": "code",
   "execution_count": 9,
   "metadata": {},
   "outputs": [],
   "source": [
    "%load_ext autoreload\n",
    "%autoreload 2\n",
    "from chess_tournament import *\n",
    "from agents import *"
   ]
  },
  {
   "cell_type": "code",
   "execution_count": 15,
   "metadata": {},
   "outputs": [],
   "source": [
    "from chess_tournament import TournamentResults, ChessTournament\n",
    "# set the number of rounds\n",
    "rounds = 2\n",
    "\n",
    "# set the number of games per round\n",
    "games_per_round = 2\n",
    "\n",
    "# set the number of agents\n",
    "agents = [RandomAgent(), \n",
    "            MinimaxAgent(),\n",
    "            MinimaxABAgent(),\n",
    "            MCTSHeapAgent(),\n",
    "            MCTSHeapAgent2000and15(),\n",
    "            MCTSAgent(),\n",
    "            MCTSBtfSimple(),\n",
    "            MCTSOwenSimple(),\n",
    "            MCTSOwenBtfSimple(),\n",
    "            ChessBotAgentBtfSimpleInput(),\n",
    "            ChessBotAgentBtfSingleInput(),\n",
    "            ChessBotAgentBtfTripleInput(),\n",
    "            ChessBotAgentOwenSimpleInput(),\n",
    "            ]\n",
    "\n",
    "tourny = ChessTournament(agents, rounds, games_per_round)\n"
   ]
  },
  {
   "cell_type": "code",
   "execution_count": 16,
   "metadata": {},
   "outputs": [],
   "source": [
    "# run the tournament\n",
    "tournament_results = tourny.run_tournament()\n"
   ]
  },
  {
   "cell_type": "code",
   "execution_count": 17,
   "metadata": {},
   "outputs": [],
   "source": [
    "# print the tournament results\n",
    "tourny.print_tournament_results(tournament_results)\n"
   ]
  },
  {
   "cell_type": "code",
   "execution_count": null,
   "metadata": {},
   "outputs": [],
   "source": [
    "# save the tournament results\n",
    "tourny.save_tournament_results(tournament_results)\n",
    "\n",
    "# plot the tournament results\n",
    "tourny.plot_tournament_results(tournament_results)"
   ]
  }
 ],
 "metadata": {
  "kernelspec": {
   "display_name": "learn",
   "language": "python",
   "name": "python3"
  },
  "language_info": {
   "codemirror_mode": {
    "name": "ipython",
    "version": 3
   },
   "file_extension": ".py",
   "mimetype": "text/x-python",
   "name": "python",
   "nbconvert_exporter": "python",
   "pygments_lexer": "ipython3",
   "version": "3.9.15"
  },
  "orig_nbformat": 4
 },
 "nbformat": 4,
 "nbformat_minor": 2
}
