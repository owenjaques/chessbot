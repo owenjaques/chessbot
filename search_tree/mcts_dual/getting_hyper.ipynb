{
 "cells": [
  {
   "cell_type": "code",
   "execution_count": 17,
   "metadata": {},
   "outputs": [],
   "source": [
    "import numpy as np\n",
    "import pickle\n",
    "# load data from 1mil games and train the model\n",
    "data = np.load('100k/training_set.npz', allow_pickle=True)\n",
    "val = np.load('100k/validation_set.npz', allow_pickle=True)\n",
    "trainX = data['X']\n",
    "trainY = data['y']\n",
    "valX = val['X']\n",
    "valY = val['y']\n",
    "from board_processing import Boardprocessing\n",
    "\n",
    "# convert the board to a 1D array\n",
    "trainX1 = np.array([Boardprocessing(board, \"V1\").get_board_image().reshape(8,8) for board in trainX])\n",
    "valX1 = np.array([Boardprocessing(board, \"V1\").get_board_image().reshape(8,8) for board in valX])\n",
    "\n",
    "# sample the data for hyperparameter tuning\n",
    "from sklearn.model_selection import train_test_split\n",
    "trainX1, _, trainY1, _ = train_test_split(trainX1, trainY, test_size=0.1, random_state=42)"
   ]
  },
  {
   "cell_type": "code",
   "execution_count": 15,
   "metadata": {},
   "outputs": [
    {
     "data": {
      "text/plain": [
       "(90000, 8, 8)"
      ]
     },
     "execution_count": 15,
     "metadata": {},
     "output_type": "execute_result"
    }
   ],
   "source": [
    "trainX1.shape"
   ]
  },
  {
   "cell_type": "code",
   "execution_count": 18,
   "metadata": {},
   "outputs": [],
   "source": [
    "import torch\n",
    "from torch.utils.data import DataLoader, TensorDataset\n",
    "import numpy as np\n",
    "\n",
    "from chesscnn import ChessCNN\n",
    "\n",
    "# Assume you have numpy arrays\n",
    "# X_train, y_train, X_val, y_val\n",
    "X_train = trainX1\n",
    "y_train = trainY1\n",
    "\n",
    "# Convert numpy arrays to PyTorch tensors\n",
    "X_train_tensor = torch.tensor(X_train).float()\n",
    "y_train_tensor = torch.tensor(y_train).float()\n",
    "\n",
    "# Create PyTorch datasets\n",
    "train_dataset = TensorDataset(X_train_tensor, y_train_tensor)\n",
    "\n",
    "\n"
   ]
  },
  {
   "cell_type": "code",
   "execution_count": 19,
   "metadata": {},
   "outputs": [
    {
     "name": "stdout",
     "output_type": "stream",
     "text": [
      "cpu\n"
     ]
    }
   ],
   "source": [
    "device = torch.device(\"cuda:0\" if torch.cuda.is_available() else \"cpu\")\n",
    "print(device)"
   ]
  },
  {
   "cell_type": "code",
   "execution_count": 11,
   "metadata": {},
   "outputs": [
    {
     "name": "stdout",
     "output_type": "stream",
     "text": [
      "The autoreload extension is already loaded. To reload it, use:\n",
      "  %reload_ext autoreload\n"
     ]
    }
   ],
   "source": [
    "%load_ext autoreload\n",
    "%autoreload 2\n",
    "        \n",
    "from hypsearch import ConvNetHyperparamSearch"
   ]
  },
  {
   "cell_type": "code",
   "execution_count": 20,
   "metadata": {},
   "outputs": [
    {
     "name": "stdout",
     "output_type": "stream",
     "text": [
      "Best accuracy: 0.00%\n",
      "Best hyperparameters: {}\n"
     ]
    }
   ],
   "source": [
    "from hypsearch import ConvNetHyperparamSearch\n",
    "\n",
    "# Create a hyperparameter search object\n",
    "search = ConvNetHyperparamSearch(train_dataset,10, device)\n",
    "\n",
    "# Search for the best hyperparameters\n",
    "best_hyperparams = search.search(\n",
    "    num_epochs=10, batch_size=64, learning_rate=0.001)\n"
   ]
  },
  {
   "cell_type": "code",
   "execution_count": 21,
   "metadata": {},
   "outputs": [
    {
     "ename": "AttributeError",
     "evalue": "'dict' object has no attribute 'get_best_hyperparams'",
     "output_type": "error",
     "traceback": [
      "\u001b[1;31m---------------------------------------------------------------------------\u001b[0m",
      "\u001b[1;31mAttributeError\u001b[0m                            Traceback (most recent call last)",
      "\u001b[1;32m~\\AppData\\Local\\Temp\\ipykernel_19188\\2511841010.py\u001b[0m in \u001b[0;36m<module>\u001b[1;34m\u001b[0m\n\u001b[1;32m----> 1\u001b[1;33m \u001b[0mbest_hyperparams\u001b[0m\u001b[1;33m.\u001b[0m\u001b[0mget_best_hyperparams\u001b[0m\u001b[1;33m(\u001b[0m\u001b[1;33m)\u001b[0m\u001b[1;33m\u001b[0m\u001b[1;33m\u001b[0m\u001b[0m\n\u001b[0m",
      "\u001b[1;31mAttributeError\u001b[0m: 'dict' object has no attribute 'get_best_hyperparams'"
     ]
    }
   ],
   "source": [
    "best_hyperparams.get_best_hyperparams()"
   ]
  },
  {
   "cell_type": "code",
   "execution_count": null,
   "metadata": {},
   "outputs": [],
   "source": []
  }
 ],
 "metadata": {
  "kernelspec": {
   "display_name": "learn",
   "language": "python",
   "name": "python3"
  },
  "language_info": {
   "codemirror_mode": {
    "name": "ipython",
    "version": 3
   },
   "file_extension": ".py",
   "mimetype": "text/x-python",
   "name": "python",
   "nbconvert_exporter": "python",
   "pygments_lexer": "ipython3",
   "version": "3.9.15"
  },
  "orig_nbformat": 4
 },
 "nbformat": 4,
 "nbformat_minor": 2
}
