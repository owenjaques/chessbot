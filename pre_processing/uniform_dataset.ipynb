{
  "cells": [
    {
      "attachments": {},
      "cell_type": "markdown",
      "metadata": {
        "id": "lxs4B2ekzwoG"
      },
      "source": [
        "# Generate a uniform dataset given Lichess Data"
      ]
    },
    {
      "attachments": {},
      "cell_type": "markdown",
      "metadata": {},
      "source": [
        "## Pre-requisites\n",
        "### If running on Google Collab\n",
        "If not running on Google collab do not run these next two cells!"
      ]
    },
    {
      "cell_type": "code",
      "execution_count": 1,
      "metadata": {
        "colab": {
          "base_uri": "https://localhost:8080/"
        },
        "id": "u8gnO_uq3ZBe",
        "outputId": "e9c7f149-3a3e-4fd4-9925-6cc959ddff7b"
      },
      "outputs": [],
      "source": [
        "# Install the only dependency not available from collab directly\n",
        "#!pip install chess"
      ]
    },
    {
      "cell_type": "code",
      "execution_count": 2,
      "metadata": {
        "colab": {
          "base_uri": "https://localhost:8080/"
        },
        "id": "DJoqUIfm5Ory",
        "outputId": "95be7a25-e030-4bf1-cc33-6d4d9bc979a4"
      },
      "outputs": [],
      "source": [
        "'''from google.colab import drive\n",
        "\n",
        "drive.mount('/content/gdrive')\n",
        "working_directory = '/content/gdrive/MyDrive/chessbot_weights/'\n",
        "print(f'Saving to {working_directory}')\n",
        "'''"
      ]
    },
    {
      "attachments": {},
      "cell_type": "markdown",
      "metadata": {
        "id": "8lTAAinwzOS8"
      },
      "source": [
        "### If not running on Google Collab\n",
        "Set the weights directory variable to wherever you would like data saved."
      ]
    },
    {
      "cell_type": "code",
      "execution_count": 1,
      "metadata": {
        "id": "n_EV6byQzOS_"
      },
      "outputs": [],
      "source": [
        "!mkdir -p data\n",
        "working_directory = './data'"
      ]
    },
    {
      "attachments": {},
      "cell_type": "markdown",
      "metadata": {
        "id": "cQHeVT0f1kgz"
      },
      "source": [
        "## Lichess Data\n",
        "### Get the Data\n",
        "This compression format is really nice, so you can cancel this cell whenever you want and all the games that were downloaded will be maintained. In my experience 300Mb gets well over 100,000 games."
      ]
    },
    {
      "cell_type": "code",
      "execution_count": 2,
      "metadata": {
        "colab": {
          "base_uri": "https://localhost:8080/"
        },
        "id": "tiexRHwp1kg2",
        "outputId": "b5ad44d1-e2c9-465f-92fd-732c97cb849a"
      },
      "outputs": [
        {
          "name": "stdout",
          "output_type": "stream",
          "text": [
            "--2023-03-28 14:30:07--  https://database.lichess.org/standard/lichess_db_standard_rated_2023-02.pgn.zst\n",
            "Resolving database.lichess.org (database.lichess.org)... 141.95.66.62, 2001:41d0:700:5e3e::\n",
            "Connecting to database.lichess.org (database.lichess.org)|141.95.66.62|:443... connected.\n",
            "HTTP request sent, awaiting response... 200 OK\n",
            "Length: 31838284336 (30G) [application/octet-stream]\n",
            "Saving to: ‘lichess_db_standard_rated_2023-02.pgn.zst’\n",
            "\n",
            "rd_rated_2023-02.pg   1%[                    ] 306.52M  18.0MB/s    eta 29m 49s^C\n"
          ]
        }
      ],
      "source": [
        "!wget https://database.lichess.org/standard/lichess_db_standard_rated_2022-01.pgn.zst"
      ]
    },
    {
      "attachments": {},
      "cell_type": "markdown",
      "metadata": {
        "id": "nddTHHyF1kg4"
      },
      "source": [
        "### Decompress the Data"
      ]
    },
    {
      "cell_type": "code",
      "execution_count": 10,
      "metadata": {
        "colab": {
          "base_uri": "https://localhost:8080/"
        },
        "id": "ogpp8WbV1kg8",
        "outputId": "e8ec9f11-4544-46c4-ef90-771f021c2a04"
      },
      "outputs": [
        {
          "name": "stdout",
          "output_type": "stream",
          "text": [
            "[sudo] password for btf: \n"
          ]
        }
      ],
      "source": [
        "#!sudo apt install zstd\n",
        "!pzstd -d lichess_db_standard_rated_2022-01.pgn.zst"
      ]
    },
    {
      "attachments": {},
      "cell_type": "markdown",
      "metadata": {
        "id": "8XOUyCRl1kg_"
      },
      "source": [
        "## Draw a uniform distribution of game positions\n",
        "Given the Lichess data, we want to draw a uniform distribution of labelled positions to later train models on."
      ]
    },
    {
      "cell_type": "code",
      "execution_count": 4,
      "metadata": {
        "id": "7l0poAsDzOTc"
      },
      "outputs": [],
      "source": [
        "import chess\n",
        "import chess.pgn\n",
        "import numpy as np\n",
        "import matplotlib.pyplot as plt"
      ]
    },
    {
      "cell_type": "code",
      "execution_count": 17,
      "metadata": {
        "id": "p9c5M8uKIzr5"
      },
      "outputs": [],
      "source": [
        "from sklearn.utils import shuffle\n",
        "\n",
        "def get_uniform_dataset_from_pgn_file(pgn_file, n_samples, n_bins, verbose=1):\n",
        "    X = np.empty(n_samples, dtype=object)\n",
        "    y = np.empty(n_samples)\n",
        "    \n",
        "    # Used to make sure the data in X and y is uniform (by stockfish label)\n",
        "    bin_capacity = n_samples // n_bins\n",
        "    bin_boundaries = np.linspace(0, 1.00001, n_bins + 1)\n",
        "    bins = np.zeros(n_bins, dtype=int)\n",
        "    \n",
        "    with open(pgn_file) as pgn:\n",
        "        i = 0\n",
        "        while i < n_samples:\n",
        "            game = chess.pgn.read_game(pgn)\n",
        "            if game is None:\n",
        "                raise Exception('DataGenerator: Out of data to read from disk.')\n",
        "\n",
        "            # Only train on game played to completion, that were not draws, and that have evaluations\n",
        "            next_node = game.next()\n",
        "            if not (game.headers['Termination'] == 'Normal' and game.headers['Result'] in ['1-0', '0-1'] and next_node and next_node.eval() != None):\n",
        "                continue\n",
        "\n",
        "            # Generate the data from the game\n",
        "            board = game.board()\n",
        "            for node in game.mainline():\n",
        "                board.push(node.move)\n",
        "\n",
        "                try:\n",
        "                    eval = node.eval().white().wdl().expectation()\n",
        "                except:\n",
        "                    # Sometimes only part of the game is labelled, so we skip the rest of this game\n",
        "                    break\n",
        "\n",
        "                # Don't keep this sample if we have already collected enough samples in its bin\n",
        "                bin = np.digitize(eval, bin_boundaries) - 1\n",
        "                if bins[bin] < bin_capacity:\n",
        "                    X[i] = board.fen()\n",
        "                    y[i] = eval\n",
        "                    bins[bin] += 1\n",
        "                    i += 1\n",
        "                \n",
        "                if verbose > 0:\n",
        "                    print(f'\\rGenerated {i}/{n_samples} samples...', end='')\n",
        "\n",
        "    # Shuffle X and y so batches of data are a bit more normal\n",
        "    X, y = shuffle(X, y)\n",
        "\n",
        "    return X, y"
      ]
    },
    {
      "cell_type": "code",
      "execution_count": 15,
      "metadata": {
        "colab": {
          "base_uri": "https://localhost:8080/"
        },
        "id": "WvSUAjrDdaiK",
        "outputId": "5ee9faa4-2bbc-41f2-c44d-c5ddd45ff1e9"
      },
      "outputs": [
        {
          "name": "stdout",
          "output_type": "stream",
          "text": [
            "Generated 120/125 samples..."
          ]
        }
      ],
      "source": [
        "#n_samples = 125000\n",
        "n_samples = 1250\n",
        "n_bins = 20\n",
        "\n",
        "# Running this line takes roughly 5 times the amount of time it takes to generate half the samples\n",
        "X, y = get_uniform_dataset_from_pgn_file('lichess_db_standard_rated_2022-01.pgn', n_samples, n_bins)"
      ]
    },
    {
      "cell_type": "markdown",
      "metadata": {
        "id": "GF2xS4NCdaiO"
      },
      "source": [
        "### Plot the distribution of the labels"
      ]
    },
    {
      "cell_type": "code",
      "execution_count": 16,
      "metadata": {
        "colab": {
          "base_uri": "https://localhost:8080/",
          "height": 404
        },
        "id": "OkFmInyWdaiQ",
        "outputId": "30786ebb-0e5d-49aa-b212-40c779d2a150"
      },
      "outputs": [
        {
          "data": {
            "image/png": "[encoded data removed]",
            "text/plain": [
              "<Figure size 1200x600 with 2 Axes>"
            ]
          },
          "metadata": {},
          "output_type": "display_data"
        }
      ],
      "source": [
        "_, axes = plt.subplots(nrows=1, ncols=2, figsize=(12, 6))\n",
        "for i, ax in enumerate(axes):\n",
        "    ax.hist(y, bins=n_bins*(i+1), density=True)\n",
        "    ax.set_title(f'Uniform dataset ({n_bins*(i+1)} bins)')\n",
        "    ax.set_xlabel('label (y)')\n",
        "    ax.set_ylabel('no. of occurences in dataset')\n",
        "plt.show()"
      ]
    },
    {
      "attachments": {},
      "cell_type": "markdown",
      "metadata": {
        "id": "8WYrr8A5daiS"
      },
      "source": [
        "### Save the labelled data to files\n",
        "Given that the labelled data we just generated, split it into train, test, and validation sets and save those to files. This takes up about 0.25MB per 10,000 games."
      ]
    },
    {
      "cell_type": "code",
      "execution_count": null,
      "metadata": {
        "colab": {
          "base_uri": "https://localhost:8080/"
        },
        "id": "Br-FPFv2daiV",
        "outputId": "7fca3620-9f7c-476f-803a-11d1c78181a9"
      },
      "outputs": [
        {
          "name": "stdout",
          "output_type": "stream",
          "text": [
            "Training set: 100000 samples\n",
            "Validation set: 12500 samples\n",
            "Test set: 12500 samples\n"
          ]
        }
      ],
      "source": [
        "from sklearn.model_selection import train_test_split\n",
        "\n",
        "X_train, X_test, y_train, y_test = train_test_split(X, y, test_size=0.2)\n",
        "X_test, X_val, y_test, y_val = train_test_split(X_test, y_test, test_size=0.5)\n",
        "\n",
        "print(f'Training set: {len(X_train)} samples')\n",
        "print(f'Validation set: {len(X_val)} samples')\n",
        "print(f'Test set: {len(X_test)} samples')\n",
        "\n",
        "np.savez_compressed(f'{working_directory}/training_set.npz', X=X_train, y=y_train)\n",
        "np.savez_compressed(f'{working_directory}/validation_set.npz', X=X_val, y=y_val)\n",
        "np.savez_compressed(f'{working_directory}/test_set.npz', X=X_test, y=y_test)"
      ]
    }
  ],
  "metadata": {
    "colab": {
      "provenance": []
    },
    "gpuClass": "standard",
    "kernelspec": {
      "display_name": "env",
      "language": "python",
      "name": "python3"
    },
    "language_info": {
      "codemirror_mode": {
        "name": "ipython",
        "version": 3
      },
      "file_extension": ".py",
      "mimetype": "text/x-python",
      "name": "python",
      "nbconvert_exporter": "python",
      "pygments_lexer": "ipython3",
      "version": "3.10.6"
    }
  },
  "nbformat": 4,
  "nbformat_minor": 0
}
