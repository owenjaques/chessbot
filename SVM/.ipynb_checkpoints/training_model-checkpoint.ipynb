{
 "cells": [
  {
   "cell_type": "code",
   "execution_count": 2,
   "metadata": {
    "scrolled": true
   },
   "outputs": [
    {
     "ename": "ModuleNotFoundError",
     "evalue": "No module named 'feature_extraction'",
     "output_type": "error",
     "traceback": [
      "\u001b[0;31m---------------------------------------------------------------------------\u001b[0m",
      "\u001b[0;31mModuleNotFoundError\u001b[0m                       Traceback (most recent call last)",
      "Cell \u001b[0;32mIn [2], line 1\u001b[0m\n\u001b[0;32m----> 1\u001b[0m \u001b[38;5;28;01mfrom\u001b[39;00m \u001b[38;5;21;01mchessbot\u001b[39;00m\u001b[38;5;21;01m.\u001b[39;00m\u001b[38;5;21;01mdata_processing\u001b[39;00m \u001b[38;5;28;01mimport\u001b[39;00m get_data_from_pgn\n\u001b[1;32m      3\u001b[0m X_all, y_all \u001b[38;5;241m=\u001b[39m get_data_from_pgn(\u001b[38;5;124m'\u001b[39m\u001b[38;5;124mdata/lichess_elite.pgn\u001b[39m\u001b[38;5;124m'\u001b[39m, feature_version\u001b[38;5;241m=\u001b[39m\u001b[38;5;241m1\u001b[39m, num_data\u001b[38;5;241m=\u001b[39m\u001b[38;5;241m10000\u001b[39m)\n\u001b[1;32m      5\u001b[0m \u001b[38;5;28;01mfrom\u001b[39;00m \u001b[38;5;21;01msklearn\u001b[39;00m \u001b[38;5;28;01mimport\u001b[39;00m svm\n",
      "File \u001b[0;32m~/Code/chessbot/SVM/chessbot/data_processing.py:8\u001b[0m\n\u001b[1;32m      3\u001b[0m \u001b[38;5;28;01mimport\u001b[39;00m \u001b[38;5;21;01mnumpy\u001b[39;00m \u001b[38;5;28;01mas\u001b[39;00m \u001b[38;5;21;01mnp\u001b[39;00m\n\u001b[1;32m      5\u001b[0m \u001b[38;5;66;03m# feature_v1 64 features + 1 label (win/draw/loss) = 65 features\u001b[39;00m\n\u001b[1;32m      6\u001b[0m \u001b[38;5;66;03m# feature_v2 2 features + 1 label (win/draw/loss) = 3 features\u001b[39;00m\n\u001b[0;32m----> 8\u001b[0m \u001b[38;5;28;01mfrom\u001b[39;00m \u001b[38;5;21;01mfeature_extraction\u001b[39;00m\u001b[38;5;21;01m.\u001b[39;00m\u001b[38;5;21;01mfeature_v1\u001b[39;00m \u001b[38;5;28;01mimport\u001b[39;00m get_features \u001b[38;5;28;01mas\u001b[39;00m get_features_v1\n\u001b[1;32m      9\u001b[0m \u001b[38;5;28;01mfrom\u001b[39;00m \u001b[38;5;21;01mfeature_extraction\u001b[39;00m\u001b[38;5;21;01m.\u001b[39;00m\u001b[38;5;21;01mfeature_v2\u001b[39;00m \u001b[38;5;28;01mimport\u001b[39;00m get_features \u001b[38;5;28;01mas\u001b[39;00m get_features_v2\n\u001b[1;32m     11\u001b[0m \u001b[38;5;28;01mdef\u001b[39;00m \u001b[38;5;21mget_data_from_pgn\u001b[39m(pgn_path, feature_version\u001b[38;5;241m=\u001b[39m\u001b[38;5;241m1\u001b[39m, num_data\u001b[38;5;241m=\u001b[39m\u001b[38;5;28;01mNone\u001b[39;00m):\n",
      "\u001b[0;31mModuleNotFoundError\u001b[0m: No module named 'feature_extraction'"
     ]
    }
   ],
   "source": [
    "from data_processing import get_data_from_pgn\n",
    "\n",
    "X_all, y_all = get_data_from_pgn('data/lichess_elite.pgn', feature_version=1, num_data=10000)\n",
    "\n",
    "from sklearn import svm\n",
    "\n",
    "clf = svm.SVR()\n",
    "\n",
    "clf.fit(X_all, y_all)\n",
    "\n",
    "import pickle\n",
    "\n",
    "pickle.dump(clf, open('model.sav', 'wb'))"
   ]
  },
  {
   "cell_type": "code",
   "execution_count": null,
   "metadata": {},
   "outputs": [],
   "source": []
  }
 ],
 "metadata": {
  "kernelspec": {
   "display_name": "Python 3 (ipykernel)",
   "language": "python",
   "name": "python3"
  },
  "language_info": {
   "codemirror_mode": {
    "name": "ipython",
    "version": 3
   },
   "file_extension": ".py",
   "mimetype": "text/x-python",
   "name": "python",
   "nbconvert_exporter": "python",
   "pygments_lexer": "ipython3",
   "version": "3.10.9"
  }
 },
 "nbformat": 4,
 "nbformat_minor": 2
}
