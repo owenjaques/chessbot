{
 "cells": [
  {
   "cell_type": "markdown",
   "metadata": {},
   "source": [
    "## quick demo of SVM chess bot playing against stockfish"
   ]
  },
  {
   "cell_type": "code",
   "execution_count": 3,
   "metadata": {},
   "outputs": [
    {
     "ename": "SyntaxError",
     "evalue": "invalid syntax (3760924166.py, line 6)",
     "output_type": "error",
     "traceback": [
      "\u001b[0;36m  Cell \u001b[0;32mIn [3], line 6\u001b[0;36m\u001b[0m\n\u001b[0;31m    import feature_extraction from chessbot\u001b[0m\n\u001b[0m                              ^\u001b[0m\n\u001b[0;31mSyntaxError\u001b[0m\u001b[0;31m:\u001b[0m invalid syntax\n"
     ]
    }
   ],
   "source": [
    "from chessbot.svm_bot import SVMBot\n",
    "import pickle\n",
    "import chess\n",
    "import chess.engine\n",
    "import time\n",
    "from chessbot import feature_extraction\n",
    "from IPython.display import clear_output\n",
    "\n",
    "def play_against_stockfish():\n",
    "    stockfish = chess.engine.SimpleEngine.popen_uci(\"stockfish\")\n",
    "    board = chess.Board()\n",
    "\n",
    "    while not board.is_game_over():\n",
    "        clear_output()\n",
    "        display(board)\n",
    "        if board.turn == chess.WHITE:\n",
    "            move = SVMBot(pickle.load(open(\"model.sav\", \"rb\"))).get_best_move(board)\n",
    "            if move is None:\n",
    "                break\n",
    "            board.push(chess.Move.from_uci(move))\n",
    "        else:\n",
    "            result = stockfish.play(board, chess.engine.Limit(time=0.1))\n",
    "            if (result.move is None):\n",
    "                break\n",
    "            board.push(result.move)\n",
    "    clear_output()\n",
    "    display(board)\n",
    "    time.sleep(0.5)\n",
    "\n",
    "\n",
    "    stockfish.quit()\n",
    "\n",
    "play_against_stockfish()\n"
   ]
  },
  {
   "cell_type": "code",
   "execution_count": null,
   "metadata": {},
   "outputs": [],
   "source": []
  }
 ],
 "metadata": {
  "kernelspec": {
   "display_name": "Python 3 (ipykernel)",
   "language": "python",
   "name": "python3"
  },
  "language_info": {
   "codemirror_mode": {
    "name": "ipython",
    "version": 3
   },
   "file_extension": ".py",
   "mimetype": "text/x-python",
   "name": "python",
   "nbconvert_exporter": "python",
   "pygments_lexer": "ipython3",
   "version": "3.10.9"
  }
 },
 "nbformat": 4,
 "nbformat_minor": 2
}
