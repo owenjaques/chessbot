{
 "cells": [
  {
   "cell_type": "code",
   "execution_count": null,
   "metadata": {},
   "outputs": [],
   "source": [
    "!wget https://database.lichess.org/standard/lichess_db_standard_rated_2023-02.pgn.zst\n",
    "!wget https://database.nikonoel.fr/lichess_elite_2022-01.zip"
   ]
  }
 ],
 "metadata": {
  "language_info": {
   "name": "python"
  },
  "orig_nbformat": 4
 },
 "nbformat": 4,
 "nbformat_minor": 2
}
