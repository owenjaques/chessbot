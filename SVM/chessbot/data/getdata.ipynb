{
 "cells": [
  {
   "cell_type": "code",
   "execution_count": 1,
   "metadata": {},
   "outputs": [
    {
     "name": "stdout",
     "output_type": "stream",
     "text": [
      "--2023-03-28 14:16:44--  https://database.nikonoel.fr/lichess_elite_2022-01.zip\n",
      "Resolving database.nikonoel.fr (database.nikonoel.fr)... 178.162.201.225\n",
      "Connecting to database.nikonoel.fr (database.nikonoel.fr)|178.162.201.225|:443... connected.\n",
      "HTTP request sent, awaiting response... 200 OK\n",
      "Length: 131581158 (125M) [application/zip]\n",
      "Saving to: ‘lichess_elite_2022-01.zip’\n",
      "\n",
      "lichess_elite_2022- 100%[===================>] 125.49M  18.9MB/s    in 7.8s    \n",
      "\n",
      "2023-03-28 14:16:53 (16.0 MB/s) - ‘lichess_elite_2022-01.zip’ saved [131581158/131581158]\n",
      "\n"
     ]
    }
   ],
   "source": [
    "# !wget https://database.lichess.org/standard/lichess_db_standard_rated_2023-02.pgn.zst\n",
    "!wget https://database.nikonoel.fr/lichess_elite_2022-01.zip"
   ]
  },
  {
   "cell_type": "code",
   "execution_count": null,
   "metadata": {},
   "outputs": [],
   "source": [
    "!apt install zstd\n",
    "!pzstd -d lichess_db_standard_rated_2023-02.pgn.zst"
   ]
  },
  {
   "cell_type": "code",
   "execution_count": 2,
   "metadata": {},
   "outputs": [
    {
     "name": "stdout",
     "output_type": "stream",
     "text": [
      "Archive:  lichess_elite_2022-01.zip\n",
      "  inflating: lichess_elite_2022-01.pgn  \n"
     ]
    }
   ],
   "source": [
    "!unzip lichess_elite_2022-01.zip"
   ]
  }
 ],
 "metadata": {
  "kernelspec": {
   "display_name": "Python 3",
   "language": "python",
   "name": "python3"
  },
  "language_info": {
   "codemirror_mode": {
    "name": "ipython",
    "version": 3
   },
   "file_extension": ".py",
   "mimetype": "text/x-python",
   "name": "python",
   "nbconvert_exporter": "python",
   "pygments_lexer": "ipython3",
   "version": "3.11.1"
  },
  "orig_nbformat": 4
 },
 "nbformat": 4,
 "nbformat_minor": 2
}
