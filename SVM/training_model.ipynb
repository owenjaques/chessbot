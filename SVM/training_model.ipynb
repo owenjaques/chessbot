{
 "cells": [
  {
   "cell_type": "code",
   "execution_count": null,
   "metadata": {},
   "outputs": [],
   "source": [
    "!wget https://database.lichess.org/standard/lichess_db_standard_rated_2023-02.pgn.zst"
   ]
  },
  {
   "cell_type": "code",
   "execution_count": null,
   "metadata": {},
   "outputs": [],
   "source": [
    "!pzstd -d lichess_db_standard_rated_2023-02.pgn.zst"
   ]
  },
  {
   "cell_type": "code",
   "execution_count": null,
   "metadata": {},
   "outputs": [],
   "source": [
    "from chessbot.data_handling import pgn_to_data\n",
    "\n",
    "X_all, y_all = pgn_to_data(open('lichess_db_standard_rated_2023-02.pgn'), 1000)\n",
    "\n",
    "from sklearn import svm\n",
    "\n",
    "clf = svm.SVR()\n",
    "\n",
    "clf.fit(X_all, y_all)\n",
    "\n",
    "import pickle\n",
    "\n",
    "pickle.dump(clf, open('model.sav', 'wb'))"
   ]
  }
 ],
 "metadata": {
  "language_info": {
   "name": "python"
  },
  "orig_nbformat": 4
 },
 "nbformat": 4,
 "nbformat_minor": 2
}
