{
  "cells": [
    {
      "attachments": {},
      "cell_type": "markdown",
      "metadata": {
        "id": "lxs4B2ekzwoG"
      },
      "source": [
        "# Training the model to run on Lichess data\n",
        "## Some pre-requisites if running on Google Collab\n",
        "If not running on Google collab do not run these next two cells!"
      ]
    },
    {
      "cell_type": "code",
      "execution_count": null,
      "metadata": {
        "colab": {
          "base_uri": "https://localhost:8080/"
        },
        "id": "u8gnO_uq3ZBe",
        "outputId": "6086f859-7bc0-418d-9cd5-2cf5c50ae106"
      },
      "outputs": [],
      "source": [
        "# Install the only dependency not available from collab directly\n",
        "!pip install chess\n",
        "\n",
        "# Get imported files from repo\n",
        "!git clone -b rl-setup https://github.com/owenjaques/chessbot.git\n",
        "!mv chessbot chessbot-repo\n",
        "!mv chessbot-repo/neural_networks/chessbot .\n",
        "!rm chessbot-repo -r"
      ]
    },
    {
      "cell_type": "code",
      "execution_count": null,
      "metadata": {
        "colab": {
          "base_uri": "https://localhost:8080/"
        },
        "id": "DJoqUIfm5Ory",
        "outputId": "3603a679-594b-437c-adf4-12e354e7aeb4"
      },
      "outputs": [],
      "source": [
        "from google.colab import drive\n",
        "\n",
        "drive.mount('/content/gdrive')\n",
        "weights_directory = '/content/gdrive/MyDrive/chessbot_weights/'\n",
        "print(f'Saving weights to {weights_directory}')"
      ]
    },
    {
      "attachments": {},
      "cell_type": "markdown",
      "metadata": {},
      "source": [
        "## If not running on Google Collab\n",
        "Set the weights directory variable to wherever you would like data saved."
      ]
    },
    {
      "cell_type": "code",
      "execution_count": null,
      "metadata": {},
      "outputs": [],
      "source": [
        "weights_directory = 'your directory here'"
      ]
    },
    {
      "attachments": {},
      "cell_type": "markdown",
      "metadata": {
        "id": "cQHeVT0f1kgz"
      },
      "source": [
        "## Get the data\n",
        "This compression format is really nice, so you can cancel this cell whenever you want and all the games that were downloaded will be maintained. In my experience 300Mb gets well over 100,000 games."
      ]
    },
    {
      "cell_type": "code",
      "execution_count": null,
      "metadata": {
        "colab": {
          "base_uri": "https://localhost:8080/"
        },
        "id": "tiexRHwp1kg2",
        "outputId": "062e3224-cb17-481e-86d0-f320ebe74df4"
      },
      "outputs": [],
      "source": [
        "!wget https://database.lichess.org/standard/lichess_db_standard_rated_2023-02.pgn.zst"
      ]
    },
    {
      "cell_type": "markdown",
      "metadata": {
        "id": "nddTHHyF1kg4"
      },
      "source": [
        "## Decompress the Data"
      ]
    },
    {
      "cell_type": "code",
      "execution_count": null,
      "metadata": {
        "colab": {
          "base_uri": "https://localhost:8080/"
        },
        "id": "ogpp8WbV1kg8",
        "outputId": "256c8ed8-aaee-4339-d638-7b65920273dd"
      },
      "outputs": [],
      "source": [
        "!apt install zstd\n",
        "!pzstd -d lichess_db_standard_rated_2023-02.pgn.zst"
      ]
    },
    {
      "attachments": {},
      "cell_type": "markdown",
      "metadata": {
        "id": "8XOUyCRl1kg_"
      },
      "source": [
        "## Play the games from the data\n",
        "For this section we want to play the games so we can translate them into labelled model inputs which we can train on. "
      ]
    },
    {
      "cell_type": "code",
      "execution_count": null,
      "metadata": {},
      "outputs": [],
      "source": [
        "import chess\n",
        "import chess.pgn\n",
        "import numpy as np\n",
        "import matplotlib.pyplot as plt\n",
        "from tensorflow import keras"
      ]
    },
    {
      "cell_type": "code",
      "execution_count": null,
      "metadata": {
        "colab": {
          "base_uri": "https://localhost:8080/"
        },
        "id": "pqdWaVsM1khC",
        "outputId": "0779d8a6-6c4d-4a90-daf0-c679106a2d2c"
      },
      "outputs": [],
      "source": [
        "from collections import deque\n",
        "from chessbot.model_input import ModelInput\n",
        "\n",
        "X_all = deque()\n",
        "y_all = deque()\n",
        "\n",
        "MAX_GAMES = 100000\n",
        "\n",
        "with open('lichess_db_standard_rated_2023-02.pgn') as pgn:\n",
        "    game_count = 0\n",
        "    game = chess.pgn.read_game(pgn)\n",
        "\n",
        "    while game is not None and game_count < MAX_GAMES:\n",
        "        result = game.headers['Result']\n",
        "        \n",
        "        # Only train on game played to completion, that were not draws, and that have evaluations\n",
        "        next_node = game.next()\n",
        "        if game.headers['Termination'] == 'Normal' and result in ['1-0', '0-1'] and next_node and next_node.eval() != None:\n",
        "            print(f'\\rProcessing game {game_count}/{MAX_GAMES}', end='')\n",
        "            X = []\n",
        "            y = []\n",
        "\n",
        "            try:\n",
        "                # Generate the data from the game\n",
        "                board = game.board()\n",
        "                for node in game.mainline():\n",
        "                    board.push(node.move)\n",
        "                    X.append(ModelInput(board).get_input())\n",
        "                    y.append(node.eval().wdl().white().expectation())\n",
        "\n",
        "                X = np.array(X)\n",
        "                y = np.array(X)\n",
        "\n",
        "                # Save the data\n",
        "                X_all.extend(X)\n",
        "                y_all.extend(y)\n",
        "            except:\n",
        "                # There are a lot of reasons an exception could be thrown here, mostly stemming from bad data being parsed\n",
        "                # from the pgn file. We just ignore these games and move on.\n",
        "                pass\n",
        "\n",
        "            game_count += 1\n",
        "\n",
        "        # Get the next game\n",
        "        game = chess.pgn.read_game(pgn)\n",
        "\n",
        "        # Save current game data every 10000 games\n",
        "        if game_count % 10000 == 0:\n",
        "            X = np.array(X_all)\n",
        "            y = np.array(y_all)\n",
        "            np.savez_compressed(f'{weights_directory}games_data.npz', X=X, y=y)"
      ]
    },
    {
      "attachments": {},
      "cell_type": "markdown",
      "metadata": {},
      "source": [
        "### Load data from previous step\n",
        "If your kernel has restarted for some reason, running this cell will load the games from the last step that were saved to disk."
      ]
    },
    {
      "cell_type": "code",
      "execution_count": null,
      "metadata": {
        "id": "1OinZZ13-8ED"
      },
      "outputs": [],
      "source": [
        "data = np.load(f'{weights_directory}games_data.npz')\n",
        "X = data['X']\n",
        "y = data['y']"
      ]
    },
    {
      "attachments": {},
      "cell_type": "markdown",
      "metadata": {},
      "source": [
        "### Experiment to balance training set\n",
        "If you look at the first histogram in this experiment you will see that the training set is unbalanced, this cell aims to balance the training set by undersampling it."
      ]
    },
    {
      "cell_type": "code",
      "execution_count": null,
      "metadata": {
        "colab": {
          "base_uri": "https://localhost:8080/",
          "height": 573
        },
        "id": "VBmo5-L6tQXK",
        "outputId": "1370723b-bd7c-4b57-aac0-bae459bc82a4"
      },
      "outputs": [],
      "source": [
        "n_bins = 50\n",
        "\n",
        "fig, ax = plt.subplots()\n",
        "ax.hist(y, bins=n_bins)\n",
        "ax.set_title('Distribution of training labels')\n",
        "ax.set_xlabel('label (y)')\n",
        "ax.set_ylabel('no. of occurences in dataset')\n",
        "plt.show()\n",
        "\n",
        "bins = np.linspace(0, 1, n_bins + 1)\n",
        "binned_y_indices = np.digitize(y, bins)\n",
        "unique_bins, counts = np.unique(binned_y_indices, return_counts=True)\n",
        "n_to_sample = np.min(counts)\n",
        "\n",
        "mask = np.full(y.shape[0], False, dtype=bool)\n",
        "for i in range(y.shape[0]):\n",
        "    if n_to_sample / counts[binned_y_indices[i] - 2] > np.random.rand():\n",
        "        mask[i] = True\n",
        "\n",
        "X_resampled = X[mask]\n",
        "y_resampled = y[mask]\n",
        "\n",
        "fig, ax = plt.subplots()\n",
        "ax.hist(y_resampled, bins=n_bins)\n",
        "ax.set_title('Distribution of training labels (undersampled)')\n",
        "ax.set_xlabel('label (y)')\n",
        "ax.set_ylabel('no. of occurences in dataset')\n",
        "plt.show()\n",
        "\n",
        "X = X_resampled\n",
        "y = y_resampled"
      ]
    },
    {
      "attachments": {},
      "cell_type": "markdown",
      "metadata": {
        "id": "4NoDAvLu3WvE"
      },
      "source": [
        "## Our model\n",
        "Set up your model being used here."
      ]
    },
    {
      "cell_type": "code",
      "execution_count": null,
      "metadata": {
        "id": "lYMalYMGzwoT"
      },
      "outputs": [],
      "source": [
        "model = keras.Sequential([\n",
        "\tkeras.layers.Dense(1024, activation='relu'),\n",
        "\tkeras.layers.Dense(512, activation='relu'),\n",
        "\tkeras.layers.Dense(64, activation='relu'),\n",
        "\tkeras.layers.Dense(1)\n",
        "])\n",
        "\n",
        "model.compile(\n",
        "    optimizer=keras.optimizers.Adam(learning_rate=0.01),\n",
        "    loss='mse',\n",
        "\tmetrics=[keras.metrics.MeanAbsoluteError()]\n",
        ")"
      ]
    },
    {
      "attachments": {},
      "cell_type": "markdown",
      "metadata": {
        "id": "8SR_Dpj1zwox"
      },
      "source": [
        "## Training the model\n",
        "This next cell trains the model on the training data, then saves it to disk. Note multiple calls to this cell have crashed the notebook before due to high RAM usages."
      ]
    },
    {
      "cell_type": "code",
      "execution_count": null,
      "metadata": {
        "colab": {
          "base_uri": "https://localhost:8080/",
          "height": 1000
        },
        "id": "Z_xQn9DMzwpC",
        "outputId": "4e07aa18-651d-4122-de31-19b20c96e279"
      },
      "outputs": [],
      "source": [
        "early_stopping = keras.callbacks.EarlyStopping(monitor='loss', restore_best_weights=True, patience=3, verbose=1)\n",
        "reduce_lr = keras.callbacks.ReduceLROnPlateau(monitor='loss', factor=0.2, patience=1, min_lr=0.00001, verbose=1)\n",
        "model.fit(X, y, epochs=100, batch_size=1024, callbacks=[early_stopping, reduce_lr])\n",
        "model.save(f'{weights_directory}lichess_trained_model')"
      ]
    },
    {
      "cell_type": "markdown",
      "metadata": {
        "id": "oUvGOIrU_bjf"
      },
      "source": [
        "## Why not play a game after all that training?"
      ]
    },
    {
      "cell_type": "code",
      "execution_count": null,
      "metadata": {
        "colab": {
          "base_uri": "https://localhost:8080/",
          "height": 411
        },
        "id": "0UQyIKnj_h9E",
        "outputId": "53b65287-b120-44a5-8474-a6ec4a97dca2"
      },
      "outputs": [],
      "source": [
        "import time\n",
        "from IPython.display import clear_output\n",
        "from chessbot.chessbot import ChessBot\n",
        "\n",
        "def play_game(model, exploration_rate=0.0, should_visualise=False):\n",
        "\twhite = ChessBot(model, chess.WHITE, exploration_rate)\n",
        "\tblack = ChessBot(model, chess.BLACK, exploration_rate)\n",
        "\n",
        "\tboard = chess.Board()\n",
        "\n",
        "\tif should_visualise:\n",
        "\t\tdisplay(board)\n",
        "\n",
        "\twhile not board.is_game_over(claim_draw=True):\n",
        "\t\tboard.push(black.move(board) if board.turn == chess.BLACK else white.move(board))\n",
        "\n",
        "\t\tif should_visualise:\n",
        "\t\t\tclear_output(wait=True)\n",
        "\t\t\tdisplay(board)\n",
        "\t\t\ttime.sleep(0.5)\n",
        "\n",
        "\treturn board.outcome(claim_draw=True).result()\n",
        " \n",
        "play_game(model, should_visualise=True)"
      ]
    }
  ],
  "metadata": {
    "accelerator": "GPU",
    "colab": {
      "provenance": []
    },
    "gpuClass": "standard",
    "kernelspec": {
      "display_name": "env",
      "language": "python",
      "name": "python3"
    },
    "language_info": {
      "codemirror_mode": {
        "name": "ipython",
        "version": 3
      },
      "file_extension": ".py",
      "mimetype": "text/x-python",
      "name": "python",
      "nbconvert_exporter": "python",
      "pygments_lexer": "ipython3",
      "version": "3.10.6"
    },
    "orig_nbformat": 4
  },
  "nbformat": 4,
  "nbformat_minor": 0
}
