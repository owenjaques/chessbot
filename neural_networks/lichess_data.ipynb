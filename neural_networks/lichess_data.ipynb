{
  "cells": [
    {
      "cell_type": "markdown",
      "metadata": {
        "id": "lxs4B2ekzwoG"
      },
      "source": [
        "# Training the model to run on Lichess data\n",
        "## Some pre-requisites if running on Google Collab\n",
        "If not running on Google collab do not run these next two cells!"
      ]
    },
    {
      "cell_type": "code",
      "execution_count": null,
      "metadata": {
        "colab": {
          "base_uri": "https://localhost:8080/"
        },
        "id": "u8gnO_uq3ZBe",
        "outputId": "d93a6a1c-92c5-4fbe-bec9-5b677aff82a9"
      },
      "outputs": [],
      "source": [
        "# Install the only dependency not available from collab directly\n",
        "!pip install chess\n",
        "\n",
        "# Get imported files from repo\n",
        "!git clone -b rl-setup https://github.com/owenjaques/chessbot.git\n",
        "!mv chessbot chessbot-repo\n",
        "!mv chessbot-repo/src/chessbot .\n",
        "!rm chessbot-repo -r"
      ]
    },
    {
      "cell_type": "code",
      "execution_count": null,
      "metadata": {
        "colab": {
          "base_uri": "https://localhost:8080/"
        },
        "id": "DJoqUIfm5Ory",
        "outputId": "30348657-cc5b-41ae-eea9-00f15029607a"
      },
      "outputs": [],
      "source": [
        "from google.colab import drive\n",
        "\n",
        "drive.mount('/content/gdrive')\n",
        "weights_directory = '/content/gdrive/MyDrive/chessbot_weights/'\n",
        "print(f'Saving weights to {weights_directory}')"
      ]
    },
    {
      "cell_type": "markdown",
      "metadata": {
        "id": "cQHeVT0f1kgz"
      },
      "source": [
        "## Get the data\n",
        "This compression format is really nice, so you can cancel this cell whenever you want and all the games that were downloaded will be maintained."
      ]
    },
    {
      "cell_type": "code",
      "execution_count": null,
      "metadata": {
        "colab": {
          "base_uri": "https://localhost:8080/"
        },
        "id": "tiexRHwp1kg2",
        "outputId": "062e3224-cb17-481e-86d0-f320ebe74df4"
      },
      "outputs": [],
      "source": [
        "!wget https://database.lichess.org/standard/lichess_db_standard_rated_2023-02.pgn.zst"
      ]
    },
    {
      "cell_type": "markdown",
      "metadata": {
        "id": "nddTHHyF1kg4"
      },
      "source": [
        "## Decompress the Data"
      ]
    },
    {
      "cell_type": "code",
      "execution_count": null,
      "metadata": {
        "colab": {
          "base_uri": "https://localhost:8080/"
        },
        "id": "ogpp8WbV1kg8",
        "outputId": "256c8ed8-aaee-4339-d638-7b65920273dd"
      },
      "outputs": [],
      "source": [
        "!apt install zstd\n",
        "!pzstd -d lichess_db_standard_rated_2023-02.pgn.zst"
      ]
    },
    {
      "cell_type": "markdown",
      "metadata": {
        "id": "8XOUyCRl1kg_"
      },
      "source": [
        "## Play the games from the data\n",
        "For this section we want to play the games so we can translate them into model inputs which we can train on."
      ]
    },
    {
      "cell_type": "code",
      "execution_count": null,
      "metadata": {
        "colab": {
          "base_uri": "https://localhost:8080/"
        },
        "id": "pqdWaVsM1khC",
        "outputId": "3922ea8b-129d-4d0d-cfdc-5c0b4aa081c7"
      },
      "outputs": [],
      "source": [
        "import chess.pgn\n",
        "import numpy as np\n",
        "from collections import deque\n",
        "from chessbot.model_input import ModelInput\n",
        "\n",
        "X_all = deque()\n",
        "y_all = deque()\n",
        "\n",
        "MAX_GAMES = 100000\n",
        "\n",
        "with open('lichess_db_standard_rated_2023-02.pgn') as pgn:\n",
        "    game_count = 0\n",
        "    game = chess.pgn.read_game(pgn)\n",
        "\n",
        "    while game is not None and game_count < MAX_GAMES:\n",
        "        result = game.headers['Result']\n",
        "        \n",
        "        # Only train on game played to completion that were not draws\n",
        "        if game.headers['Termination'] == 'Normal' and result in ['1-0', '0-1']:\n",
        "            print(f'\\rProcessing game {game_count}/{MAX_GAMES}', end='')\n",
        "            X = []\n",
        "            \n",
        "            board = game.board()\n",
        "            for move in game.mainline_moves():\n",
        "                board.push(move)\n",
        "                X.append(ModelInput(board).get_input())\n",
        "\n",
        "            X = np.array(X)\n",
        "            y = np.empty_like(X)\n",
        "            \n",
        "            discount_factor = 0.95\n",
        "            y_reversed_indices = np.linspace(len(y) - 1, 0, num=len(y))\n",
        "            y = 1 * discount_factor**y_reversed_indices\n",
        "\n",
        "            if result == '0-1':\n",
        "                y = -y\n",
        "\n",
        "            # Scale the labels to be between 0 and 1 instead of -1 and 1\n",
        "            y = (y + 1) / 2\n",
        "\n",
        "            # Save the data\n",
        "            if X is not None and y is not None:\n",
        "                try:\n",
        "                    X_all.extend(X)\n",
        "                    y_all.extend(y)\n",
        "                except:\n",
        "                    pass\n",
        "\n",
        "        # Get the next game\n",
        "        game_count += 1\n",
        "        game = chess.pgn.read_game(pgn)\n",
        "\n",
        "        # Save current game data every 10000 games\n",
        "        if game_count % 10000 == 0:\n",
        "            X = np.array(X_all)\n",
        "            y = np.array(y_all)\n",
        "            np.savez_compressed(f'{weights_directory}games_data.npz', X=X, y=y)"
      ]
    },
    {
      "cell_type": "code",
      "execution_count": null,
      "metadata": {
        "id": "1OinZZ13-8ED"
      },
      "outputs": [],
      "source": [
        "import numpy as np\n",
        "data = np.load(f'{weights_directory}games_data.npz')\n",
        "X = data['X']\n",
        "y = data['y']"
      ]
    },
    {
      "cell_type": "markdown",
      "metadata": {
        "id": "4NoDAvLu3WvE"
      },
      "source": [
        "## Our model\n",
        "We will initially be using a MLP Regression model set up with the default parameters from scikit-learn's MLP Regression model since it seems like a solid place to start. After some trial and error, a second Dense layer for the model was added to hopefully capture a bit more complexity."
      ]
    },
    {
      "cell_type": "code",
      "execution_count": null,
      "metadata": {
        "id": "lYMalYMGzwoT"
      },
      "outputs": [],
      "source": [
        "from tensorflow import keras\n",
        "\n",
        "model = keras.Sequential([\n",
        "\tkeras.layers.Dense(1024, activation='sigmoid'),\n",
        "\tkeras.layers.Dense(1024, activation='sigmoid'),\n",
        "\tkeras.layers.Dense(1, activation='sigmoid')\n",
        "])\n",
        "\n",
        "model.compile(\n",
        "    optimizer=keras.optimizers.Adam(learning_rate=0.0001),\n",
        "    loss='mse'\n",
        ")"
      ]
    },
    {
      "cell_type": "markdown",
      "metadata": {
        "id": "8SR_Dpj1zwox"
      },
      "source": [
        "## Training the model"
      ]
    },
    {
      "cell_type": "code",
      "execution_count": null,
      "metadata": {
        "colab": {
          "base_uri": "https://localhost:8080/"
        },
        "id": "Z_xQn9DMzwpC",
        "outputId": "1dea1175-eb6e-4aad-df8f-d57a7a3cc84f"
      },
      "outputs": [],
      "source": [
        "callback = keras.callbacks.EarlyStopping(monitor='loss', restore_best_weights=True)\n",
        "model.fit(X, y, epochs=10, batch_size=128, callbacks=[callback])\n",
        "model.save(f'{weights_directory}lichess_trained_model')"
      ]
    },
    {
      "cell_type": "markdown",
      "metadata": {
        "id": "oUvGOIrU_bjf"
      },
      "source": [
        "## Why not play a game after all that training?"
      ]
    },
    {
      "cell_type": "code",
      "execution_count": null,
      "metadata": {
        "colab": {
          "base_uri": "https://localhost:8080/",
          "height": 411
        },
        "id": "0UQyIKnj_h9E",
        "outputId": "a40afb63-3bd5-4d7d-c083-6aef8baf7476"
      },
      "outputs": [],
      "source": [
        "import chess\n",
        "import numpy as np\n",
        "import time\n",
        "from IPython.display import clear_output\n",
        "from chessbot.chessbot import ChessBot\n",
        "\n",
        "def play_game(model, exploration_rate=0.0, should_visualise=False):\n",
        "\twhite = ChessBot(model, chess.WHITE, exploration_rate)\n",
        "\tblack = ChessBot(model, chess.BLACK, exploration_rate)\n",
        "\n",
        "\tboard = chess.Board()\n",
        "\n",
        "\tif should_visualise:\n",
        "\t\tdisplay(board)\n",
        "\n",
        "\twhile not board.is_game_over(claim_draw=True):\n",
        "\t\tboard.push(black.move(board) if board.turn == chess.BLACK else white.move(board))\n",
        "\n",
        "\t\tif should_visualise:\n",
        "\t\t\tclear_output(wait=True)\n",
        "\t\t\tdisplay(board)\n",
        "\t\t\ttime.sleep(0.5)\n",
        "\n",
        "\treturn board.outcome(claim_draw=True).result()\n",
        " \n",
        "play_game(model, should_visualise=True)"
      ]
    }
  ],
  "metadata": {
    "colab": {
      "provenance": []
    },
    "gpuClass": "standard",
    "kernelspec": {
      "display_name": "env",
      "language": "python",
      "name": "python3"
    },
    "language_info": {
      "codemirror_mode": {
        "name": "ipython",
        "version": 3
      },
      "file_extension": ".py",
      "mimetype": "text/x-python",
      "name": "python",
      "nbconvert_exporter": "python",
      "pygments_lexer": "ipython3",
      "version": "3.10.6"
    },
    "orig_nbformat": 4
  },
  "nbformat": 4,
  "nbformat_minor": 0
}
