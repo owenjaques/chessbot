{
  "cells": [
    {
      "cell_type": "markdown",
      "metadata": {
        "id": "lxs4B2ekzwoG"
      },
      "source": [
        "# Training the model to run on Lichess data\n",
        "## Some pre-requisites if running on Google Collab\n",
        "If not running on Google collab do not run these next two cells!"
      ]
    },
    {
      "cell_type": "code",
      "execution_count": 1,
      "metadata": {
        "colab": {
          "base_uri": "https://localhost:8080/"
        },
        "id": "u8gnO_uq3ZBe",
        "outputId": "e9c7f149-3a3e-4fd4-9925-6cc959ddff7b"
      },
      "outputs": [
        {
          "name": "stdout",
          "output_type": "stream",
          "text": [
            "Looking in indexes: https://pypi.org/simple, https://us-python.pkg.dev/colab-wheels/public/simple/\n",
            "Collecting chess\n",
            "  Downloading chess-1.9.4-py3-none-any.whl (149 kB)\n",
            "\u001b[2K     \u001b[90m━━━━━━━━━━━━━━━━━━━━━━━━━━━━━━━━━━━━━━━\u001b[0m \u001b[32m149.1/149.1 KB\u001b[0m \u001b[31m4.5 MB/s\u001b[0m eta \u001b[36m0:00:00\u001b[0m\n",
            "\u001b[?25hInstalling collected packages: chess\n",
            "Successfully installed chess-1.9.4\n",
            "Cloning into 'chessbot'...\n",
            "remote: Enumerating objects: 424, done.\u001b[K\n",
            "remote: Counting objects: 100% (221/221), done.\u001b[K\n",
            "remote: Compressing objects: 100% (156/156), done.\u001b[K\n",
            "remote: Total 424 (delta 103), reused 167 (delta 60), pack-reused 203\u001b[K\n",
            "Receiving objects: 100% (424/424), 33.71 MiB | 7.38 MiB/s, done.\n",
            "Resolving deltas: 100% (220/220), done.\n"
          ]
        }
      ],
      "source": [
        "# Install the only dependency not available from collab directly\n",
        "!pip install chess\n",
        "\n",
        "# Get imported files from repo\n",
        "!git clone -b lichess-neural-networks https://github.com/owenjaques/chessbot.git\n",
        "!mv chessbot chessbot-repo\n",
        "!mv chessbot-repo/neural_networks/chessbot .\n",
        "!rm chessbot-repo -r"
      ]
    },
    {
      "cell_type": "code",
      "execution_count": 2,
      "metadata": {
        "colab": {
          "base_uri": "https://localhost:8080/"
        },
        "id": "DJoqUIfm5Ory",
        "outputId": "95be7a25-e030-4bf1-cc33-6d4d9bc979a4"
      },
      "outputs": [
        {
          "name": "stdout",
          "output_type": "stream",
          "text": [
            "Mounted at /content/gdrive\n",
            "Saving to /content/gdrive/MyDrive/chessbot_weights/\n"
          ]
        }
      ],
      "source": [
        "from google.colab import drive\n",
        "\n",
        "drive.mount('/content/gdrive')\n",
        "working_directory = '/content/gdrive/MyDrive/chessbot_weights/'\n",
        "print(f'Saving to {working_directory}')"
      ]
    },
    {
      "cell_type": "markdown",
      "metadata": {
        "id": "8lTAAinwzOS8"
      },
      "source": [
        "## If not running on Google Collab\n",
        "Set the weights directory variable to wherever you would like data saved."
      ]
    },
    {
      "cell_type": "code",
      "execution_count": null,
      "metadata": {
        "id": "n_EV6byQzOS_"
      },
      "outputs": [],
      "source": [
        "!mkdir -p data\n",
        "working_directory = './data/'"
      ]
    },
    {
      "cell_type": "markdown",
      "metadata": {
        "id": "cQHeVT0f1kgz"
      },
      "source": [
        "## Get the data\n",
        "This compression format is really nice, so you can cancel this cell whenever you want and all the games that were downloaded will be maintained. In my experience 300Mb gets well over 100,000 games."
      ]
    },
    {
      "cell_type": "code",
      "execution_count": 3,
      "metadata": {
        "colab": {
          "base_uri": "https://localhost:8080/"
        },
        "id": "tiexRHwp1kg2",
        "outputId": "b5ad44d1-e2c9-465f-92fd-732c97cb849a"
      },
      "outputs": [
        {
          "name": "stdout",
          "output_type": "stream",
          "text": [
            "--2023-03-19 23:07:55--  https://database.lichess.org/standard/lichess_db_standard_rated_2023-02.pgn.zst\n",
            "Resolving database.lichess.org (database.lichess.org)... 141.95.66.62, 2001:41d0:700:5e3e::\n",
            "Connecting to database.lichess.org (database.lichess.org)|141.95.66.62|:443... connected.\n",
            "HTTP request sent, awaiting response... 200 OK\n",
            "Length: 31838284336 (30G) [application/octet-stream]\n",
            "Saving to: ‘lichess_db_standard_rated_2023-02.pgn.zst’\n",
            "\n",
            "2023-02.pgn.zst       3%[                    ]   1.03G  16.6MB/s    eta 31m 0s ^C\n"
          ]
        }
      ],
      "source": [
        "!wget https://database.lichess.org/standard/lichess_db_standard_rated_2023-02.pgn.zst"
      ]
    },
    {
      "cell_type": "markdown",
      "metadata": {
        "id": "nddTHHyF1kg4"
      },
      "source": [
        "## Decompress the Data"
      ]
    },
    {
      "cell_type": "code",
      "execution_count": 4,
      "metadata": {
        "colab": {
          "base_uri": "https://localhost:8080/"
        },
        "id": "ogpp8WbV1kg8",
        "outputId": "e8ec9f11-4544-46c4-ef90-771f021c2a04"
      },
      "outputs": [
        {
          "name": "stdout",
          "output_type": "stream",
          "text": [
            "Reading package lists... Done\n",
            "Building dependency tree       \n",
            "Reading state information... Done\n",
            "The following NEW packages will be installed:\n",
            "  zstd\n",
            "0 upgraded, 1 newly installed, 0 to remove and 23 not upgraded.\n",
            "Need to get 343 kB of archives.\n",
            "After this operation, 1,592 kB of additional disk space will be used.\n",
            "Get:1 http://archive.ubuntu.com/ubuntu focal-updates/universe amd64 zstd amd64 1.4.4+dfsg-3ubuntu0.1 [343 kB]\n",
            "Fetched 343 kB in 1s (359 kB/s)\n",
            "Selecting previously unselected package zstd.\n",
            "(Reading database ... 128276 files and directories currently installed.)\n",
            "Preparing to unpack .../zstd_1.4.4+dfsg-3ubuntu0.1_amd64.deb ...\n",
            "Unpacking zstd (1.4.4+dfsg-3ubuntu0.1) ...\n",
            "Setting up zstd (1.4.4+dfsg-3ubuntu0.1) ...\n",
            "Processing triggers for man-db (2.9.1-1) ...\n",
            "pzstd: lichess_db_standard_rated_2023-02.pgn.zst: Incomplete block.\n"
          ]
        }
      ],
      "source": [
        "!apt install zstd\n",
        "!pzstd -d lichess_db_standard_rated_2023-02.pgn.zst"
      ]
    },
    {
      "cell_type": "markdown",
      "metadata": {
        "id": "8XOUyCRl1kg_"
      },
      "source": [
        "## Transform the Data\n",
        "For this section we create a data generator which will play the games from disk then translate them into labelled model inputs which the model will train on."
      ]
    },
    {
      "cell_type": "code",
      "execution_count": 3,
      "metadata": {
        "id": "7l0poAsDzOTc"
      },
      "outputs": [],
      "source": [
        "import chess\n",
        "import chess.pgn\n",
        "import numpy as np\n",
        "import matplotlib.pyplot as plt\n",
        "from tensorflow import keras"
      ]
    },
    {
      "cell_type": "code",
      "execution_count": 4,
      "metadata": {
        "id": "p9c5M8uKIzr5"
      },
      "outputs": [],
      "source": [
        "from chessbot.model_input import ModelInput\n",
        "from sklearn.utils import shuffle\n",
        "from os.path import exists\n",
        "\n",
        "class DataGenerator(keras.utils.Sequence):\n",
        "    def __init__(self, batch_size, pgn_file, num_batches=128, name='training_data', label_for='regression', verbose=0, regenerate_each_epoch=True, save_directory=None):\n",
        "        self.batch_size = batch_size\n",
        "        self.num_batches = num_batches\n",
        "        self.pgn = pgn_file\n",
        "        self.n = batch_size * num_batches\n",
        "        self.verbose = verbose\n",
        "        self.name = name\n",
        "        self.label_for = label_for\n",
        "        self.regenerate_each_epoch = regenerate_each_epoch\n",
        "        self.epoch = 1\n",
        "        self.save_directory = save_directory\n",
        "\n",
        "        self.X = np.empty((self.n, 102))\n",
        "        self.y = np.empty((self.n, 3), dtype=int) if self.label_for == 'classification' else np.empty(self.n)\n",
        "\n",
        "        self.populate_Xy()\n",
        "\n",
        "    def populate_Xy(self):\n",
        "        # Plays games from the dataset and populates X and y\n",
        "\n",
        "        if self.save_directory != None:\n",
        "            filename = f'{self.save_directory}epoch{int(self.epoch)}_{self.name}.npz'\n",
        "            if exists(filename):\n",
        "                data = np.load(filename)\n",
        "                self.X = data['X']\n",
        "                self.y = data['y']\n",
        "                \n",
        "                if self.verbose > 0:\n",
        "                    print(f'Loaded {len(self.X)} samples.')\n",
        "\n",
        "                return\n",
        "\n",
        "        # Used to make sure the data in X and y is uniform\n",
        "        n_bins = 16\n",
        "        bin_boundaries = np.linspace(0, 1, n_bins + 1)\n",
        "        bins = np.zeros(n_bins, dtype=int)\n",
        "        \n",
        "        i = 0\n",
        "        while i < self.n:\n",
        "            game = chess.pgn.read_game(self.pgn)\n",
        "            if game is None:\n",
        "                raise Exception('DataGenerator: Out of data to read from disk.')\n",
        "    \n",
        "            # Only train on game played to completion, that were not draws, and that have evaluations\n",
        "            next_node = game.next()\n",
        "            if not (game.headers['Termination'] == 'Normal' and game.headers['Result'] in ['1-0', '0-1'] and next_node and next_node.eval() != None):\n",
        "                continue\n",
        "\n",
        "            try:\n",
        "                # Generate the data from the game\n",
        "                board = game.board()\n",
        "                for node in game.mainline():\n",
        "                    board.push(node.move)\n",
        "                    eval = node.eval().white().score(mate_score=10000)\n",
        "\n",
        "                    if self.label_for == 'classification':\n",
        "                        self.X[i] = ModelInput(board).get_input()\n",
        "                        y[i] = [eval <= -125, -125 < eval < 125, eval >= 125]\n",
        "                        i += 1\n",
        "                    else:\n",
        "                        # Threshold to remove outliers and increase distribution of data\n",
        "                        threshold_boundary = 1500\n",
        "                        y = threshold_boundary if eval > threshold_boundary else -threshold_boundary if eval < -threshold_boundary else eval\n",
        "\n",
        "                        # Normalise in the range [0, 1]\n",
        "                        y = (y + threshold_boundary) / (2 * threshold_boundary)\n",
        "\n",
        "                        # Don't keep this sample if we have already collected enough samples in its bin\n",
        "                        bin = np.digitize(y, bin_boundaries) - 1\n",
        "                        if bins[bin] < self.n / n_bins:\n",
        "                            self.X[i] = ModelInput(board).get_input()\n",
        "                            self.y[i] = y\n",
        "                            bins[bin] += 1\n",
        "                            i += 1\n",
        "                    \n",
        "                    if self.verbose > 0:\n",
        "                        print(f'\\rGenerated {i}/{self.n} samples for {self.name}', end='')\n",
        "            except:\n",
        "                # There are a lot of reasons an exception could be thrown here, mostly stemming from bad data being parsed\n",
        "                # from the pgn file. We just ignore these games and move on.\n",
        "                pass\n",
        "\n",
        "        # Shuffle X and y so batches of data are a bit more normal\n",
        "        self.X, self.y = shuffle(self.X, self.y)\n",
        "\n",
        "        if self.verbose > 0 and self.label_for == 'classification':\n",
        "            print(f'\\nData generator for {self.name}: Number of losing positions: {np.sum(self.y[:, 0])}, Number of drawing positions: {np.sum(self.y[:, 1])}, Number of winning positions: {np.sum(self.y[:, 2])}')\n",
        "        \n",
        "        if self.label_for == 'regression' and self.verbose > 1:\n",
        "            _, ax = plt.subplots(figsize=(6, 6))\n",
        "            ax.hist(self.y, bins=n_bins)\n",
        "            ax.set_title(f'Labels for {self.name}')\n",
        "            ax.set_xlabel('label (y)')\n",
        "            ax.set_ylabel('no. of occurences in dataset')\n",
        "            plt.show()\n",
        "\n",
        "        # Save the data to a file so its quicker to train next time\n",
        "        np.savez_compressed(f'{self.save_directory}epoch{int(self.epoch)}_{self.name}.npz', X=self.X, y=self.y)\n",
        "        \n",
        "    def on_epoch_end(self):\n",
        "        self.epoch += 1\n",
        "\n",
        "        if self.regenerate_each_epoch:\n",
        "            self.populate_Xy()\n",
        "\n",
        "    def __len__(self):\n",
        "        return self.n\n",
        "\n",
        "    def __getitem__(self, idx):\n",
        "        # Returns one batch of data\n",
        "        batch_idx_start = idx * self.batch_size\n",
        "        batch_idx_end = idx * (self.batch_size + 1)\n",
        "        return self.X[batch_idx_start:batch_idx_end], self.y[batch_idx_start:batch_idx_end]"
      ]
    },
    {
      "attachments": {},
      "cell_type": "markdown",
      "metadata": {
        "id": "I30r2LprPzhq"
      },
      "source": [
        "### Get X and y from all the files we've saved\n",
        "This allows us to create one big set of data to train the model on instead of using several small sets."
      ]
    },
    {
      "cell_type": "code",
      "execution_count": 7,
      "metadata": {
        "colab": {
          "base_uri": "https://localhost:8080/"
        },
        "id": "fUl0X3lYPyVL",
        "outputId": "ff336abd-2676-46ae-aa20-a31a9e74da55"
      },
      "outputs": [
        {
          "name": "stdout",
          "output_type": "stream",
          "text": [
            "(196608, 102) (196608,)\n"
          ]
        }
      ],
      "source": [
        "X = None\n",
        "y = None\n",
        "\n",
        "for epoch in range(1, 13):\n",
        "    data = np.load(f'{working_directory}epoch{epoch}_training_data.npz')\n",
        "    \n",
        "    if epoch == 1:\n",
        "        X = data['X']\n",
        "        y = data['y']\n",
        "    else:\n",
        "        X = np.concatenate([X, data['X']])\n",
        "        y = np.concatenate([y, data['y']])\n",
        "\n",
        "data = np.load(f'{working_directory}epoch1_validation_data.npz')\n",
        "validation_data = (data['X'], data['y'])\n",
        "\n",
        "print(X.shape, y.shape)"
      ]
    },
    {
      "cell_type": "markdown",
      "metadata": {
        "id": "4NoDAvLu3WvE"
      },
      "source": [
        "## Our Model\n",
        "Set up your model being used here.\n",
        "\n",
        "### Classification Model"
      ]
    },
    {
      "cell_type": "code",
      "execution_count": null,
      "metadata": {
        "id": "lYMalYMGzwoT"
      },
      "outputs": [],
      "source": [
        "model = keras.Sequential([\n",
        "\tkeras.layers.Dense(512, activation='relu'),\n",
        "\tkeras.layers.Dense(512, activation='relu'),\n",
        "\tkeras.layers.Dense(3, activation='softmax')\n",
        "])\n",
        "\n",
        "model.compile(\n",
        "    optimizer=keras.optimizers.Adam(learning_rate=0.001),\n",
        "    loss='categorical_crossentropy',\n",
        "\tmetrics=['accuracy']\n",
        ")"
      ]
    },
    {
      "cell_type": "markdown",
      "metadata": {
        "id": "O-tv7B_6nJgd"
      },
      "source": [
        "### Regression Model"
      ]
    },
    {
      "cell_type": "code",
      "execution_count": 8,
      "metadata": {
        "id": "k4x0OtsVnMMr"
      },
      "outputs": [],
      "source": [
        "model = keras.Sequential([\n",
        "\tkeras.layers.Dense(1024, activation='relu'),\n",
        "\tkeras.layers.Dense(1024, activation='relu'),\n",
        "\tkeras.layers.Dense(1024, activation='relu'),\n",
        "\tkeras.layers.Dense(1)\n",
        "])\n",
        "\n",
        "model.compile(\n",
        "    optimizer=keras.optimizers.Adam(learning_rate=0.001),\n",
        "\t#optimizer=keras.optimizers.SGD(learning_rate=0.001, nesterov=True, momentum=0.7),\n",
        "    loss='mse',\n",
        "\tmetrics=[keras.metrics.MeanAbsoluteError()]\n",
        ")"
      ]
    },
    {
      "cell_type": "markdown",
      "metadata": {
        "id": "8SR_Dpj1zwox"
      },
      "source": [
        "## Training the model"
      ]
    },
    {
      "cell_type": "code",
      "execution_count": 10,
      "metadata": {
        "colab": {
          "base_uri": "https://localhost:8080/"
        },
        "id": "pILp2Qq6Tw7v",
        "outputId": "210e0be0-5456-462e-a766-477576a0af4e"
      },
      "outputs": [
        {
          "name": "stdout",
          "output_type": "stream",
          "text": [
            "Loaded 16384 samples.\n",
            "Loaded 3264 samples.\n"
          ]
        }
      ],
      "source": [
        "pgn_file = open('lichess_db_standard_rated_2023-02.pgn', 'r')\n",
        "batch_size = 32\n",
        "num_batches = 512\n",
        "\n",
        "training_data = DataGenerator(batch_size, pgn_file, num_batches, verbose=1, save_directory=working_directory)\n",
        "validation_data = DataGenerator(batch_size, pgn_file, int(num_batches*0.2), name='validation_data', verbose=1, regenerate_each_epoch=False, save_directory=working_directory)"
      ]
    },
    {
      "cell_type": "code",
      "execution_count": 55,
      "metadata": {
        "colab": {
          "base_uri": "https://localhost:8080/"
        },
        "id": "MGp7YqN0H_qa",
        "outputId": "b445ff2f-fad0-486c-a45f-a3d58367a431"
      },
      "outputs": [
        {
          "name": "stdout",
          "output_type": "stream",
          "text": [
            "0\n",
            "/content/gdrive/MyDrive/chessbot_weights/logs\n"
          ]
        }
      ],
      "source": [
        "print(int(np.sum(np.isnan(training_data.X.flatten()))))\n",
        "print(f'{working_directory}logs')"
      ]
    },
    {
      "cell_type": "code",
      "execution_count": 9,
      "metadata": {
        "colab": {
          "base_uri": "https://localhost:8080/"
        },
        "id": "Z_xQn9DMzwpC",
        "outputId": "c7360621-71a9-4144-e196-e962852bb313"
      },
      "outputs": [
        {
          "name": "stdout",
          "output_type": "stream",
          "text": [
            "Epoch 1/128\n",
            "6144/6144 [==============================] - ETA: 0s - loss: 0.0567 - mean_absolute_error: 0.1837"
          ]
        },
        {
          "name": "stderr",
          "output_type": "stream",
          "text": [
            "WARNING:absl:Found untraced functions such as _update_step_xla while saving (showing 1 of 1). These functions will not be directly callable after loading.\n"
          ]
        },
        {
          "name": "stdout",
          "output_type": "stream",
          "text": [
            "\b\b\b\b\b\b\b\b\b\b\b\b\b\b\b\b\b\b\b\b\b\b\b\b\b\b\b\b\b\b\b\b\b\b\b\b\b\b\b\b\b\b\b\b\b\b\b\b\b\b\b\b\b\b\b\b\b\b\b\b\b\b\b\b\b\b\b\b\b\b\b\b\b\b\b\b\b\b\b\b\b\b\b\b\b\b\b\b\b\b\b\b\b\b\b\b\b\r6144/6144 [==============================] - 28s 3ms/step - loss: 0.0567 - mean_absolute_error: 0.1837 - val_loss: 0.0522 - val_mean_absolute_error: 0.1801 - lr: 0.0010\n",
            "Epoch 2/128\n",
            "6130/6144 [============================>.] - ETA: 0s - loss: 0.0496 - mean_absolute_error: 0.1700\n",
            "Epoch 2: ReduceLROnPlateau reducing learning rate to 0.00020000000949949026.\n",
            "6144/6144 [==============================] - 19s 3ms/step - loss: 0.0496 - mean_absolute_error: 0.1700 - val_loss: 0.0525 - val_mean_absolute_error: 0.1753 - lr: 0.0010\n",
            "Epoch 3/128\n",
            "6141/6144 [============================>.] - ETA: 0s - loss: 0.0449 - mean_absolute_error: 0.1585"
          ]
        },
        {
          "name": "stderr",
          "output_type": "stream",
          "text": [
            "WARNING:absl:Found untraced functions such as _update_step_xla while saving (showing 1 of 1). These functions will not be directly callable after loading.\n"
          ]
        },
        {
          "name": "stdout",
          "output_type": "stream",
          "text": [
            "\b\b\b\b\b\b\b\b\b\b\b\b\b\b\b\b\b\b\b\b\b\b\b\b\b\b\b\b\b\b\b\b\b\b\b\b\b\b\b\b\b\b\b\b\b\b\b\b\b\b\b\b\b\b\b\b\b\b\b\b\b\b\b\b\b\b\b\b\b\b\b\b\b\b\b\b\b\b\b\b\b\b\b\b\b\b\b\b\b\b\b\b\b\b\b\b\b\r6144/6144 [==============================] - 20s 3ms/step - loss: 0.0449 - mean_absolute_error: 0.1585 - val_loss: 0.0483 - val_mean_absolute_error: 0.1668 - lr: 2.0000e-04\n",
            "Epoch 4/128\n",
            "6129/6144 [============================>.] - ETA: 0s - loss: 0.0435 - mean_absolute_error: 0.1551"
          ]
        },
        {
          "name": "stderr",
          "output_type": "stream",
          "text": [
            "WARNING:absl:Found untraced functions such as _update_step_xla while saving (showing 1 of 1). These functions will not be directly callable after loading.\n"
          ]
        },
        {
          "name": "stdout",
          "output_type": "stream",
          "text": [
            "\b\b\b\b\b\b\b\b\b\b\b\b\b\b\b\b\b\b\b\b\b\b\b\b\b\b\b\b\b\b\b\b\b\b\b\b\b\b\b\b\b\b\b\b\b\b\b\b\b\b\b\b\b\b\b\b\b\b\b\b\b\b\b\b\b\b\b\b\b\b\b\b\b\b\b\b\b\b\b\b\b\b\b\b\b\b\b\b\b\b\b\b\b\b\b\b\b\r6144/6144 [==============================] - 20s 3ms/step - loss: 0.0435 - mean_absolute_error: 0.1551 - val_loss: 0.0475 - val_mean_absolute_error: 0.1627 - lr: 2.0000e-04\n",
            "Epoch 5/128\n",
            "6137/6144 [============================>.] - ETA: 0s - loss: 0.0424 - mean_absolute_error: 0.1525\n",
            "Epoch 5: ReduceLROnPlateau reducing learning rate to 4.0000001899898055e-05.\n",
            "6144/6144 [==============================] - 20s 3ms/step - loss: 0.0424 - mean_absolute_error: 0.1525 - val_loss: 0.0476 - val_mean_absolute_error: 0.1616 - lr: 2.0000e-04\n",
            "Epoch 6/128\n",
            "6130/6144 [============================>.] - ETA: 0s - loss: 0.0405 - mean_absolute_error: 0.1480"
          ]
        },
        {
          "name": "stderr",
          "output_type": "stream",
          "text": [
            "WARNING:absl:Found untraced functions such as _update_step_xla while saving (showing 1 of 1). These functions will not be directly callable after loading.\n"
          ]
        },
        {
          "name": "stdout",
          "output_type": "stream",
          "text": [
            "\b\b\b\b\b\b\b\b\b\b\b\b\b\b\b\b\b\b\b\b\b\b\b\b\b\b\b\b\b\b\b\b\b\b\b\b\b\b\b\b\b\b\b\b\b\b\b\b\b\b\b\b\b\b\b\b\b\b\b\b\b\b\b\b\b\b\b\b\b\b\b\b\b\b\b\b\b\b\b\b\b\b\b\b\b\b\b\b\b\b\b\b\b\b\b\b\b\r6144/6144 [==============================] - 20s 3ms/step - loss: 0.0405 - mean_absolute_error: 0.1480 - val_loss: 0.0465 - val_mean_absolute_error: 0.1607 - lr: 4.0000e-05\n",
            "Epoch 7/128\n",
            "6126/6144 [============================>.] - ETA: 0s - loss: 0.0401 - mean_absolute_error: 0.1470"
          ]
        },
        {
          "name": "stderr",
          "output_type": "stream",
          "text": [
            "WARNING:absl:Found untraced functions such as _update_step_xla while saving (showing 1 of 1). These functions will not be directly callable after loading.\n"
          ]
        },
        {
          "name": "stdout",
          "output_type": "stream",
          "text": [
            "\b\b\b\b\b\b\b\b\b\b\b\b\b\b\b\b\b\b\b\b\b\b\b\b\b\b\b\b\b\b\b\b\b\b\b\b\b\b\b\b\b\b\b\b\b\b\b\b\b\b\b\b\b\b\b\b\b\b\b\b\b\b\b\b\b\b\b\b\b\b\b\b\b\b\b\b\b\b\b\b\b\b\b\b\b\b\b\b\b\b\b\b\b\b\b\b\b\r6144/6144 [==============================] - 21s 3ms/step - loss: 0.0401 - mean_absolute_error: 0.1470 - val_loss: 0.0460 - val_mean_absolute_error: 0.1596 - lr: 4.0000e-05\n",
            "Epoch 8/128\n",
            "6136/6144 [============================>.] - ETA: 0s - loss: 0.0397 - mean_absolute_error: 0.1462\n",
            "Epoch 8: ReduceLROnPlateau reducing learning rate to 8.000000525498762e-06.\n",
            "6144/6144 [==============================] - 19s 3ms/step - loss: 0.0397 - mean_absolute_error: 0.1462 - val_loss: 0.0461 - val_mean_absolute_error: 0.1600 - lr: 4.0000e-05\n",
            "Epoch 9/128\n",
            "6144/6144 [==============================] - ETA: 0s - loss: 0.0392 - mean_absolute_error: 0.1450\n",
            "Epoch 9: ReduceLROnPlateau reducing learning rate to 1.6000001778593287e-06.\n",
            "6144/6144 [==============================] - 20s 3ms/step - loss: 0.0392 - mean_absolute_error: 0.1450 - val_loss: 0.0462 - val_mean_absolute_error: 0.1597 - lr: 8.0000e-06\n",
            "Epoch 10/128\n",
            "6140/6144 [============================>.] - ETA: 0s - loss: 0.0391 - mean_absolute_error: 0.1448\n",
            "Epoch 10: ReduceLROnPlateau reducing learning rate to 3.200000264769187e-07.\n"
          ]
        },
        {
          "name": "stderr",
          "output_type": "stream",
          "text": [
            "WARNING:absl:Found untraced functions such as _update_step_xla while saving (showing 1 of 1). These functions will not be directly callable after loading.\n"
          ]
        },
        {
          "name": "stdout",
          "output_type": "stream",
          "text": [
            "\b\b\b\b\b\b\b\b\b\b\b\b\b\b\b\b\b\b\b\b\b\b\b\b\b\b\b\b\b\b\b\b\b\b\b\b\b\b\b\b\b\b\b\b\b\b\b\b\b\b\b\b\b\b\b\b\b\b\b\b\b\b\b\b\b\b\b\b\b\b\b\b\b\b\b\b\b\b\b\b\b\b\b\b\b\b\b\b\b\b\b\b\b\b\b\b\b\r6144/6144 [==============================] - 19s 3ms/step - loss: 0.0391 - mean_absolute_error: 0.1448 - val_loss: 0.0460 - val_mean_absolute_error: 0.1591 - lr: 1.6000e-06\n",
            "Epoch 11/128\n",
            "6137/6144 [============================>.] - ETA: 0s - loss: 0.0390 - mean_absolute_error: 0.1447\n",
            "Epoch 11: ReduceLROnPlateau reducing learning rate to 6.400000529538374e-08.\n",
            "6144/6144 [==============================] - 19s 3ms/step - loss: 0.0391 - mean_absolute_error: 0.1447 - val_loss: 0.0460 - val_mean_absolute_error: 0.1591 - lr: 3.2000e-07\n",
            "Epoch 12/128\n",
            "6133/6144 [============================>.] - ETA: 0s - loss: 0.0391 - mean_absolute_error: 0.1447\n",
            "Epoch 12: ReduceLROnPlateau reducing learning rate to 1.2800001059076749e-08.\n",
            "6144/6144 [==============================] - 19s 3ms/step - loss: 0.0390 - mean_absolute_error: 0.1447 - val_loss: 0.0460 - val_mean_absolute_error: 0.1591 - lr: 6.4000e-08\n",
            "Epoch 13/128\n",
            "6135/6144 [============================>.] - ETA: 0s - loss: 0.0390 - mean_absolute_error: 0.1447\n",
            "Epoch 13: ReduceLROnPlateau reducing learning rate to 2.5600002118153498e-09.\n",
            "6144/6144 [==============================] - 19s 3ms/step - loss: 0.0390 - mean_absolute_error: 0.1447 - val_loss: 0.0460 - val_mean_absolute_error: 0.1591 - lr: 1.2800e-08\n",
            "Epoch 14/128\n",
            "6144/6144 [==============================] - ETA: 0s - loss: 0.0390 - mean_absolute_error: 0.1447\n",
            "Epoch 14: ReduceLROnPlateau reducing learning rate to 5.1200004236307e-10.\n",
            "6144/6144 [==============================] - 20s 3ms/step - loss: 0.0390 - mean_absolute_error: 0.1447 - val_loss: 0.0460 - val_mean_absolute_error: 0.1591 - lr: 2.5600e-09\n",
            "Epoch 15/128\n",
            "6132/6144 [============================>.] - ETA: 0s - loss: 0.0391 - mean_absolute_error: 0.1447Restoring model weights from the end of the best epoch: 10.\n",
            "\n",
            "Epoch 15: ReduceLROnPlateau reducing learning rate to 1.0240001069306004e-10.\n",
            "6144/6144 [==============================] - 19s 3ms/step - loss: 0.0390 - mean_absolute_error: 0.1447 - val_loss: 0.0460 - val_mean_absolute_error: 0.1591 - lr: 5.1200e-10\n",
            "Epoch 15: early stopping\n"
          ]
        },
        {
          "data": {
            "text/plain": [
              "<keras.callbacks.History at 0x7f647a1fd670>"
            ]
          },
          "execution_count": 9,
          "metadata": {},
          "output_type": "execute_result"
        }
      ],
      "source": [
        "early_stopping = keras.callbacks.EarlyStopping(\n",
        "    monitor='val_loss',\n",
        "    restore_best_weights=True,\n",
        "    patience=5,\n",
        "    verbose=1)\n",
        "\n",
        "reduce_lr = keras.callbacks.ReduceLROnPlateau(\n",
        "    monitor='val_loss',\n",
        "    factor=0.2,\n",
        "    patience=1,\n",
        "    min_lr=0.00000000000001,\n",
        "    verbose=1)\n",
        "\n",
        "checkpoint = keras.callbacks.ModelCheckpoint(\n",
        "    f'{working_directory}lichess_trained_model',\n",
        "    monitor='val_loss',\n",
        "    save_best_only=True)\n",
        "\n",
        "tensorboard = keras.callbacks.TensorBoard(\n",
        "    log_dir=f'{working_directory}logs',\n",
        "    write_graph=True,\n",
        "    write_images=True,\n",
        "    histogram_freq=1)\n",
        "\n",
        "model.fit(\n",
        "    X,\n",
        "    y,\n",
        "    epochs=128,\n",
        "    validation_data=validation_data,\n",
        "    shuffle=True,\n",
        "    callbacks=[early_stopping, reduce_lr, checkpoint, tensorboard])"
      ]
    },
    {
      "cell_type": "markdown",
      "metadata": {
        "id": "r65K0QysZ-Zn"
      },
      "source": [
        "### Launch tensorboard"
      ]
    },
    {
      "cell_type": "code",
      "execution_count": null,
      "metadata": {
        "id": "BNOSv54_1LQa"
      },
      "outputs": [],
      "source": [
        "%reload_ext tensorboard\n",
        "!kill $(ps -e | grep 'tensorboard' | awk '{print $1}')\n",
        "%tensorboard --logdir /content/gdrive/MyDrive/chessbot_weights/logs/"
      ]
    },
    {
      "cell_type": "markdown",
      "metadata": {
        "id": "HMqv5oliZ-Zr"
      },
      "source": [
        "### Optionally load a previous model"
      ]
    },
    {
      "cell_type": "code",
      "execution_count": null,
      "metadata": {
        "id": "b4WOshr4vnBH"
      },
      "outputs": [],
      "source": [
        "model = keras.models.load_model(f'{working_directory}/lichess_trained_model')"
      ]
    },
    {
      "cell_type": "markdown",
      "metadata": {
        "id": "W2JWZP_FZ-Zu"
      },
      "source": [
        "### Confusion Matrix"
      ]
    },
    {
      "cell_type": "code",
      "execution_count": null,
      "metadata": {
        "colab": {
          "base_uri": "https://localhost:8080/",
          "height": 315
        },
        "id": "DOC_EW2JZ-Zw",
        "outputId": "179b7579-5281-4c2c-933a-32b8a8a3fe4c"
      },
      "outputs": [
        {
          "name": "stdout",
          "output_type": "stream",
          "text": [
            "204/204 [==============================] - 0s 1ms/step\n"
          ]
        },
        {
          "data": {
            "text/plain": [
              "[Text(0.5, 15.0, 'Predicted label'), Text(33.0, 0.5, 'True label')]"
            ]
          },
          "execution_count": 17,
          "metadata": {},
          "output_type": "execute_result"
        },
        {
          "data": {
            "image/png": "[encoded data removed]",
            "text/plain": [
              "<Figure size 432x288 with 2 Axes>"
            ]
          },
          "metadata": {
            "needs_background": "light"
          },
          "output_type": "display_data"
        }
      ],
      "source": [
        "from sklearn.metrics import confusion_matrix\n",
        "import seaborn as sns\n",
        "\n",
        "y_pred = model.predict(validation_data.X)\n",
        "y_pred = np.argmax(y_pred, axis=1)\n",
        "y_true = np.argmax(validation_data.y, axis=1)\n",
        "cm = confusion_matrix(y_true, y_pred)\n",
        "\n",
        "ax = sns.heatmap(cm, annot=True, fmt='d', xticklabels=['Losing', 'Drawing', 'Winning'], yticklabels=['Losing', 'Drawing', 'Winning'])\n",
        "ax.set(xlabel='Predicted label', ylabel='True label')"
      ]
    },
    {
      "cell_type": "markdown",
      "metadata": {
        "id": "FL5FptVDqf79"
      },
      "source": [
        "### Evaluate model"
      ]
    },
    {
      "cell_type": "code",
      "execution_count": 15,
      "metadata": {
        "colab": {
          "base_uri": "https://localhost:8080/",
          "height": 718
        },
        "id": "3xb9RhKoqfA9",
        "outputId": "a4f5d0b2-dbb1-4277-bebb-7e107d1cb2d4"
      },
      "outputs": [
        {
          "name": "stdout",
          "output_type": "stream",
          "text": [
            "102/102 [==============================] - 0s 2ms/step - loss: 0.0000e+00 - mean_absolute_error: 0.0000e+00\n",
            "102/102 [==============================] - 0s 2ms/step\n"
          ]
        },
        {
          "data": {
            "image/png": "[encoded data removed]",
            "text/plain": [
              "<Figure size 864x432 with 2 Axes>"
            ]
          },
          "metadata": {
            "needs_background": "light"
          },
          "output_type": "display_data"
        },
        {
          "data": {
            "text/plain": [
              "[Text(0.5, 15.0, 'Predicted label'), Text(33.0, 0.5, 'True label')]"
            ]
          },
          "execution_count": 15,
          "metadata": {},
          "output_type": "execute_result"
        },
        {
          "data": {
            "image/png": "[encoded data removed]",
            "text/plain": [
              "<Figure size 432x288 with 2 Axes>"
            ]
          },
          "metadata": {
            "needs_background": "light"
          },
          "output_type": "display_data"
        }
      ],
      "source": [
        "from sklearn.metrics import confusion_matrix\n",
        "import seaborn as sns\n",
        "\n",
        "# Since at the end of the epoch the validation data is refreshed,\n",
        "# validation_data actually holds new data at the end of training\n",
        "evaluation = model.evaluate(validation_data)\n",
        "predictions = model.predict(validation_data[0])\n",
        "\n",
        "_, ax = plt.subplots(nrows=1, ncols=2, figsize=(12, 6))\n",
        "ax[0].hist(predictions, bins=50)\n",
        "ax[0].set_title(f'Predicted labels')\n",
        "ax[0].set_xlabel('label (y)')\n",
        "ax[0].set_ylabel('no. of occurences in dataset')\n",
        "ax[1].hist(validation_data[1], bins=50)\n",
        "ax[1].set_title(f'Actual labels')\n",
        "ax[1].set_xlabel('label (y)')\n",
        "ax[1].set_ylabel('no. of occurences in dataset')\n",
        "plt.show()\n",
        "\n",
        "# Bin the data into continuous intervals, then plot a confusion matrix\n",
        "predictions_binned = np.digitize(predictions, bins=np.linspace(0, 1, 10))\n",
        "y_binned = np.digitize(validation_data[1], bins=np.linspace(0, 1, 10))\n",
        "cm = confusion_matrix(y_binned, predictions_binned)\n",
        "ax = sns.heatmap(cm, annot=True, fmt='d')\n",
        "ax.set(xlabel='Predicted label', ylabel='True label')"
      ]
    },
    {
      "cell_type": "markdown",
      "metadata": {
        "id": "oUvGOIrU_bjf"
      },
      "source": [
        "## Why not play a game after all that training?"
      ]
    },
    {
      "cell_type": "code",
      "execution_count": null,
      "metadata": {
        "id": "0UQyIKnj_h9E"
      },
      "outputs": [],
      "source": [
        "import time\n",
        "from IPython.display import clear_output\n",
        "import chessbot.chessbot\n",
        "import importlib\n",
        "importlib.reload(chessbot.chessbot)\n",
        "from chessbot.chessbot import ChessBot\n",
        "\n",
        "def play_game(model, exploration_rate=0.0, should_visualise=False):\n",
        "\twhite = ChessBot(model, chess.WHITE, exploration_rate)\n",
        "\tblack = ChessBot(model, chess.BLACK, exploration_rate)\n",
        "\n",
        "\tboard = chess.Board()\n",
        "\n",
        "\tif should_visualise:\n",
        "\t\tdisplay(board)\n",
        "  \n",
        "\t#chess.Move.from_uci(input())\n",
        "\n",
        "\twhile not board.is_game_over(claim_draw=True):\n",
        "\t\tboard.push(black.move(board) if board.turn == chess.BLACK else chess.Move.from_uci(input()))\n",
        "\n",
        "\t\tif should_visualise:\n",
        "\t\t\ttime.sleep(1)\n",
        "\t\t\tclear_output(wait=True)\n",
        "\t\t\tdisplay(board)\n",
        "\n",
        "\treturn board.outcome(claim_draw=True).result()\n",
        " \n",
        "play_game(model, should_visualise=True)"
      ]
    }
  ],
  "metadata": {
    "accelerator": "GPU",
    "colab": {
      "provenance": []
    },
    "gpuClass": "standard",
    "kernelspec": {
      "display_name": "env",
      "language": "python",
      "name": "python3"
    },
    "language_info": {
      "codemirror_mode": {
        "name": "ipython",
        "version": 3
      },
      "file_extension": ".py",
      "mimetype": "text/x-python",
      "name": "python",
      "nbconvert_exporter": "python",
      "pygments_lexer": "ipython3",
      "version": "3.10.6"
    }
  },
  "nbformat": 4,
  "nbformat_minor": 0
}
