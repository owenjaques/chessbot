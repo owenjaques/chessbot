{
 "cells": [
  {
   "cell_type": "code",
   "execution_count": 50,
   "metadata": {},
   "outputs": [],
   "source": [
    "import numpy as np\n",
    "import chess\n",
    "import time\n",
    "import pickle\n",
    "from sklearn.neural_network import MLPClassifier\n",
    "from sklearn.model_selection import train_test_split\n",
    "clf = MLPClassifier(hidden_layer_sizes=(1000), alpha=0.0001, max_iter=1,\n",
    "                    solver='adam', warm_start=True, shuffle=False, verbose=True, early_stopping=True)\n",
    "\n",
    "def load_model(filename):\n",
    "    clf = pickle.load(open(filename, 'rb'))\n",
    "    return clf\n",
    "\n",
    "def save_model(filename):\n",
    "    pickle.dump(clf, open(filename, 'wb'))\n",
    "    \n",
    "def get_pieces(board):\n",
    "    #pieces = [[(-1, -1), (-1, -1), (-1, -1), (-1, -1), (-1, -1), (-1, -1), (-1, -1), (-1, -1)], [(-2, -1), (-2, -1)], [(-3, -1), (-3, -1)], [(-4, -1), (-4, -1)], [(-5, -1)], [(-6, -1)], [(1, -1), (1, -1), (1, -1), (1, -1), (1, -1), (1, -1), (1, -1), (1, -1)], [(2, -1), (2, -1)], [(3, -1), (3, -1)], [(4, -1), (4, -1)], [(5, -1)], [(6, -1)]]\n",
    "    pieces = [-1]*144\n",
    "    stupid_game_mechanic = []\n",
    "    for rank_index in range(8):\n",
    "        for file_index in range(8):\n",
    "            square = chess.square(file_index, rank_index)\n",
    "            piece = board.piece_at(square)\n",
    "            piece_type = board.piece_type_at(square)\n",
    "            if piece:\n",
    "                f = 1\n",
    "                c = 0 if (piece.color) else 1\n",
    "                i = (piece_type-1)*3+(48*c)\n",
    "                while pieces[i] != -1:\n",
    "                    #pieces[i:i+3] = [piece_type, file_index, rank_index]\n",
    "                    i+=3\n",
    "                pieces[i:i+3] = [piece_type, file_index, rank_index]\n",
    "                #pieces.append((piece_type, file_index, rank_index))\n",
    "                '''for j, piece in enumerate(pieces[p+(6*c)-1]):\n",
    "                    if piece[1] == -1:\n",
    "                        #pieces[board.piece_type_at(chess.square(file_index, rank_index))+(6*c)-1][j] = (file_index, rank_index)\n",
    "                        pieces.append((file_index, rank_index))\n",
    "                        f = 0\n",
    "                        break\n",
    "                if f:\n",
    "                    a = (piece[0], chess.square(file_index, rank_index))\n",
    "                    stupid_game_mechanic.append(a) \n",
    "\n",
    "    while 16-len(stupid_game_mechanic):\n",
    "        a = (1,-1)\n",
    "        stupid_game_mechanic.append(a)\n",
    "    ret = []\n",
    "    for i in pieces:\n",
    "        ret +=i'''\n",
    "\n",
    "    return pieces  #ret+stupid_game_mechanic\n",
    "\n",
    "def attacked_squares(board, color):\n",
    "    attacked = chess.SquareSet()\n",
    "    for attacker in chess.SquareSet(board.occupied_co[color]):\n",
    "        attacked |= board.attacks(attacker)\n",
    "    return attacked\n",
    "\n",
    "def atk_lst(board):\n",
    "    w = attacked_squares(board, chess.WHITE)\n",
    "    b = attacked_squares(board, chess.BLACK)\n",
    "    lst = []\n",
    "    for i in range(64):\n",
    "        if w & (1 << i):\n",
    "            white_attacks = 1\n",
    "        else:\n",
    "            white_attacks = 0\n",
    "        \n",
    "        if b & (1 << i):\n",
    "            black_attacks = 1\n",
    "        else:\n",
    "            black_attacks = 0\n",
    "        \n",
    "        lst.append((white_attacks, black_attacks))\n",
    "    \n",
    "    return lst\n",
    "\n",
    "def get_best_move(board):\n",
    "    scores = []\n",
    "    moves = list(board.legal_moves)\n",
    "    for move in moves:\n",
    "        board.push(move)\n",
    "        opt = np.array(board_eval(board)).reshape(1, -1)\n",
    "        probs = clf.predict_proba(opt)\n",
    "        2 if board.turn == chess.BLACK else 0\n",
    "        scores.append(abs(probs[0][2 if board.turn == chess.BLACK else 0]))\n",
    "        board.pop()\n",
    "    return moves[np.argmax(scores)]\n",
    "\n",
    "#test fen \"4k2r/6r1/8/8/8/8/3R4/R3K3 w Qk - 0 1\"\n",
    "b = chess.Board(\"4k2r/6r1/8/8/8/8/3R4/R3K3 w Qk - 6 9\")\n",
    "\n",
    "def board_eval(b): \n",
    "    data = get_pieces(b) + atk_lst(b) + [(b.halfmove_clock, b.fullmove_number)]\n",
    "    return np.array(data).flatten()\n",
    "\n"
   ]
  },
  {
   "cell_type": "code",
   "execution_count": 52,
   "metadata": {},
   "outputs": [
    {
     "name": "stdout",
     "output_type": "stream",
     "text": [
      "[1, 0, 1, 2, 1, 0, 3, 2, 0, 4, 0, 0, 5, 3, 0, 6, 4, 0, 3, 5, 0, 2, 6, 0, 4, 7, 0, 1, 1, 1, 1, 2, 1, 1, 3, 1, 1, 5, 1, 1, 6, 1, 1, 7, 1, 5, 3, 6, 1, 0, 6, 1, 1, 6, 1, 2, 6, 1, 5, 6, 5, 4, 1, 1, 6, 6, 1, 7, 6, 4, 0, 7, 2, 1, 7, 3, 2, 7, 5, 3, 7, 6, 4, 7, 3, 5, 7, 2, 6, 7, 4, 7, 7, -1, -1, -1, -1, -1, -1, -1, -1, -1, -1, -1, -1, -1, -1, -1, -1, -1, -1, -1, -1, -1, -1, -1, -1, -1, -1, -1, -1, -1, -1, -1, -1, -1, -1, -1, -1, -1, -1, -1, -1, -1, -1, -1, -1, -1, -1, -1, -1, -1, -1, -1]\n",
      "[1, 0, 1, 2, 1, 0, 3, 2, 0, 4, 0, 0, 5, 3, 0, 6, 4, 0, 3, 5, 0, 2, 6, 0, 4, 7, 0, 1, 1, 1, 1, 2, 1, 1, 3, 1, 1, 4, 1, 1, 5, 1, 1, 6, 1, 1, 7, 1, 1, 0, 6, 1, 1, 6, 1, 2, 6, 1, 3, 6, 1, 4, 6, 1, 5, 6, 1, 6, 6, 1, 7, 6, 4, 0, 7, 2, 1, 7, 3, 2, 7, 5, 3, 7, 6, 4, 7, 3, 5, 7, 2, 6, 7, 4, 7, 7, -1, -1, -1, -1, -1, -1, -1, -1, -1, -1, -1, -1, -1, -1, -1, -1, -1, -1, -1, -1, -1, -1, -1, -1, -1, -1, -1, -1, -1, -1, -1, -1, -1, -1, -1, -1, -1, -1, -1, -1, -1, -1, -1, -1, -1, -1, -1, -1]\n"
     ]
    }
   ],
   "source": [
    "print(get_pieces(chess.Board(\"rnbqkbnr/pppQ1ppp/8/8/8/8/PPPPqPPP/RNBQKBNR\")))\n",
    "print(get_pieces(chess.Board()))"
   ]
  },
  {
   "cell_type": "code",
   "execution_count": 44,
   "metadata": {},
   "outputs": [
    {
     "data": {
      "text/plain": [
       "-1"
      ]
     },
     "execution_count": 44,
     "metadata": {},
     "output_type": "execute_result"
    }
   ],
   "source": [
    "pieces = [-1]*144\n",
    "pieces[12]"
   ]
  },
  {
   "cell_type": "code",
   "execution_count": 37,
   "metadata": {},
   "outputs": [
    {
     "name": "stdout",
     "output_type": "stream",
     "text": [
      "[1, 3, 4, -1, -1, -1, -1, -1, -1, -1, -1, -1, -1, -1]\n"
     ]
    }
   ],
   "source": [
    "l = [-1]*14\n",
    "l[:3] = [1,3,4]\n",
    "print(l)"
   ]
  },
  {
   "cell_type": "code",
   "execution_count": 4,
   "metadata": {},
   "outputs": [],
   "source": [
    "import random\n",
    "\n",
    "class ChessBot:\n",
    "    def __init__(self, model, exploration_rate=0.1):\n",
    "        self.model = model\n",
    "        self.moves = []\n",
    "        self.exploration_rate = exploration_rate\n",
    "        \n",
    "    def move(self, board):\n",
    "        legal_moves = list(board.legal_moves)\n",
    "        \n",
    "        if random.random() < self.exploration_rate:\n",
    "            move = random.choice(legal_moves)\n",
    "        else:\n",
    "            try:\n",
    "                move = get_best_move(board)\n",
    "            except:\n",
    "                move = random.choice(legal_moves)\n",
    "        \n",
    "        self.moves.append(move)\n",
    "        \n",
    "        return move"
   ]
  },
  {
   "cell_type": "code",
   "execution_count": 5,
   "metadata": {},
   "outputs": [],
   "source": [
    "from IPython.display import clear_output\n",
    "\n",
    "def play_game_and_learn(model, exploration_rate_black=0.1, exploration_rate_white=0.1, should_visualise=False):\n",
    "\tblack = ChessBot(model, exploration_rate_black)\n",
    "\twhite = ChessBot(model, exploration_rate_white)\n",
    "\tgame_positions_data = []\n",
    "\tboard = chess.Board()\n",
    "\n",
    "\tif should_visualise:\n",
    "\t\tdisplay(board)\n",
    "\n",
    "\twhile not board.is_game_over():\n",
    "\t\tboard.push(black.move(board) if board.turn == chess.BLACK else white.move(board))\n",
    "\t\tgame_positions_data.append(board_eval(board))\n",
    "\n",
    "\t\tif should_visualise:\n",
    "\t\t\tclear_output(wait=True)\n",
    "\t\t\tdisplay(board)\n",
    "\n",
    "\t# TODO: Train the model on the results of the game\n",
    "\treturn board.result(), game_positions_data"
   ]
  },
  {
   "cell_type": "code",
   "execution_count": 6,
   "metadata": {},
   "outputs": [],
   "source": [
    "\n",
    "def run_epoch(rate_b, rate_w, num_games):\n",
    "\tresults = []\n",
    "\tdata = []\n",
    "\tlabels = []\n",
    "\tfor _ in range(num_games):\n",
    "\t\tresult, board_states = play_game_and_learn(None, rate_b, rate_w)\n",
    "\t\tif result == '1-0':\n",
    "\t\t\tlabels += [1]*len(board_states)\n",
    "\t\telif result == '0-1':\n",
    "\t\t\tlabels += [-1]*len(board_states)\n",
    "\t\telse:\n",
    "\t\t\tlabels += [0]*len(board_states)\n",
    "\t\t\n",
    "\t\tdata += board_states\n",
    "\t\tresults.append(result)\n",
    "\tfor i in ['1-0', '0-1', '1/2-1/2']:\n",
    "\t\tprint(f'{i}: {results.count(i)}')\n",
    "\n",
    "\trate_b = rate_b + results.count('1-0')/len(results)\n",
    "\trate_w = rate_w + results.count('0-1')/len(results)\n",
    "\treturn data, labels, rate_b, rate_w\n",
    "\n",
    "def train_epoch(labels, data):\n",
    "\tX_train, _, y_train, _ = train_test_split(data, labels ,shuffle=False, test_size=1)\n",
    "\tclf.fit(X_train, y_train)\n",
    "\n"
   ]
  },
  {
   "cell_type": "code",
   "execution_count": 7,
   "metadata": {},
   "outputs": [],
   "source": [
    "def train_n_epochs(epochs, rate, decay):\n",
    "    i = 0\n",
    "    rate_b = rate\n",
    "    rate_w = rate\n",
    "    while i<epochs:\n",
    "        data, labels, rate_b, rate_w = run_epoch(rate_b*decay, rate_w*decay, 1000)\n",
    "        train_epoch(labels, data)\n",
    "        decay *= decay\n",
    "        i+=1\n",
    "    b = chess.Board()\n",
    "    while not b.is_game_over():\n",
    "        clear_output(wait=True)\n",
    "        b.push(get_best_move(b))\n",
    "        display(b)\n",
    "        time.sleep(0.5)\n"
   ]
  }
 ],
 "metadata": {
  "kernelspec": {
   "display_name": "Python 3",
   "language": "python",
   "name": "python3"
  },
  "language_info": {
   "codemirror_mode": {
    "name": "ipython",
    "version": 3
   },
   "file_extension": ".py",
   "mimetype": "text/x-python",
   "name": "python",
   "nbconvert_exporter": "python",
   "pygments_lexer": "ipython3",
   "version": "3.10.6"
  },
  "orig_nbformat": 4,
  "vscode": {
   "interpreter": {
    "hash": "e584bf9341a62b8a3da68642bc9f7bba01f22f5f3f07d96326eb029e48e4c97a"
   }
  }
 },
 "nbformat": 4,
 "nbformat_minor": 2
}
