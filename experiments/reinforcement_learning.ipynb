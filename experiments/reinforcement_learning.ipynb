{
 "cells": [
  {
   "attachments": {},
   "cell_type": "markdown",
   "metadata": {},
   "source": [
    "# Reinforcement Learning"
   ]
  },
  {
   "cell_type": "code",
   "execution_count": 28,
   "metadata": {},
   "outputs": [],
   "source": [
    "import random\n",
    "\n",
    "class ChessBot:\n",
    "    def __init__(self, model, exploration_rate=0.0):\n",
    "        self.model = model\n",
    "        self.moves = []\n",
    "        self.exploration_rate = exploration_rate\n",
    "        \n",
    "    def move(self, board):\n",
    "        legal_moves = list(board.legal_moves)\n",
    "        \n",
    "        if random.random() < self.exploration_rate:\n",
    "            move = random.choice(legal_moves)\n",
    "        else:\n",
    "            # TODO: Use the model to predict the best move\n",
    "            move = random.choice(legal_moves)\n",
    "        \n",
    "        self.moves.append(move)\n",
    "        \n",
    "        return move"
   ]
  },
  {
   "cell_type": "code",
   "execution_count": 37,
   "metadata": {},
   "outputs": [],
   "source": [
    "import chess\n",
    "from IPython.display import clear_output\n",
    "\n",
    "def play_game_and_learn(model, exploration_rate=0.0, should_visualise=False):\n",
    "\tblack = ChessBot(model, exploration_rate)\n",
    "\twhite = ChessBot(model, exploration_rate)\n",
    "\n",
    "\tboard = chess.Board()\n",
    "\n",
    "\tif should_visualise:\n",
    "\t\tdisplay(board)\n",
    "\n",
    "\twhile not board.is_game_over():\n",
    "\t\tboard.push(black.move(board) if board.turn == chess.BLACK else white.move(board))\n",
    "\n",
    "\t\tif should_visualise:\n",
    "\t\t\tclear_output(wait=True)\n",
    "\t\t\tdisplay(board)\n",
    "\n",
    "\t# TODO: Train the model on the results of the game\n",
    "\n",
    "\treturn board.result()"
   ]
  },
  {
   "cell_type": "code",
   "execution_count": 38,
   "metadata": {},
   "outputs": [
    {
     "name": "stdout",
     "output_type": "stream",
     "text": [
      "1-0: 5\n",
      "0-1: 11\n",
      "1/2-1/2: 84\n"
     ]
    }
   ],
   "source": [
    "exploration_rate = 0.1\n",
    "num_games = 100\n",
    "\n",
    "results = []\n",
    "for _ in range(num_games):\n",
    "\tresult = play_game_and_learn(None, exploration_rate=exploration_rate)\n",
    "\tresults.append(result)\n",
    "\n",
    "for result in ['1-0', '0-1', '1/2-1/2']:\n",
    "\tprint(f'{result}: {results.count(result)}')"
   ]
  }
 ],
 "metadata": {
  "kernelspec": {
   "display_name": "env",
   "language": "python",
   "name": "python3"
  },
  "language_info": {
   "codemirror_mode": {
    "name": "ipython",
    "version": 3
   },
   "file_extension": ".py",
   "mimetype": "text/x-python",
   "name": "python",
   "nbconvert_exporter": "python",
   "pygments_lexer": "ipython3",
   "version": "3.10.6"
  },
  "orig_nbformat": 4
 },
 "nbformat": 4,
 "nbformat_minor": 2
}
